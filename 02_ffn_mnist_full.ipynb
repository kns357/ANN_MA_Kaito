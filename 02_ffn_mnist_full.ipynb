{
 "cells": [
  {
   "cell_type": "code",
   "execution_count": 13,
   "id": "a041ae83",
   "metadata": {},
   "outputs": [],
   "source": [
    "import torch\n",
    "import torch.nn as nn\n",
    "import torchvision.datasets as datasets \n",
    "import torchvision.transforms as transforms"
   ]
  },
  {
   "cell_type": "code",
   "execution_count": 14,
   "id": "7c018232",
   "metadata": {},
   "outputs": [],
   "source": [
    "input_size = 784\n",
    "hidden_size0 = 32\n",
    "hidden_size1 = 16\n",
    "out_size = 10\n",
    "\n",
    "epochs = 10\n",
    "batch_size = 64\n",
    "learning_rate = 0.001"
   ]
  },
  {
   "cell_type": "code",
   "execution_count": 15,
   "id": "f54bcb09",
   "metadata": {},
   "outputs": [],
   "source": [
    "train_dataset = datasets.MNIST(root='./data',\n",
    "                           train=True,\n",
    "                           transform=transforms.ToTensor(),\n",
    "                           download=True)\n",
    "\n",
    "test_dataset = datasets.MNIST(root='./data',\n",
    "                           train=False,\n",
    "                           transform=transforms.ToTensor())\n",
    "\n",
    "train_loader = torch.utils.data.DataLoader(dataset=train_dataset,\n",
    "                                          batch_size=batch_size,\n",
    "                                          shuffle=True)\n",
    "\n",
    "test_loader = torch.utils.data.DataLoader(dataset=test_dataset,\n",
    "                                          batch_size=batch_size,\n",
    "                                          shuffle=False)"
   ]
  },
  {
   "cell_type": "code",
   "execution_count": 16,
   "id": "9d13a029",
   "metadata": {},
   "outputs": [],
   "source": [
    "class Net(nn.Module):\n",
    "    def __init__(self, input_size, hidden_size0, hidden_size1, out_size):\n",
    "        super(Net, self).__init__()\n",
    "        self.fc0 = nn.Linear(input_size, hidden_size0)     #784 - 32\n",
    "        self.fc1 = nn.Linear(hidden_size0, hidden_size1)   #32 - 16\n",
    "        self.fc2 = nn.Linear(hidden_size1, out_size)       #16 - 10\n",
    "        self.tanh = nn.Tanh()\n",
    "        self.init_weights()\n",
    "\n",
    "    def init_weights(self):\n",
    "        nn.init.xavier_uniform_(self.fc0.weight, gain=nn.init.calculate_gain('tanh')) \n",
    "        nn.init.xavier_uniform_(self.fc1.weight, gain=nn.init.calculate_gain('tanh'))\n",
    "        nn.init.xavier_uniform_(self.fc2.weight, gain=nn.init.calculate_gain('tanh'))\n",
    "\n",
    "    def forward(self, x):\n",
    "        out = self.tanh(self.fc0(x))\n",
    "        out = self.tanh(self.fc1(out))\n",
    "        out = self.fc2(out)\n",
    "        return out"
   ]
  },
  {
   "cell_type": "code",
   "execution_count": 17,
   "id": "2f446bd8",
   "metadata": {},
   "outputs": [],
   "source": [
    "net = Net(input_size, hidden_size0, hidden_size1, out_size)\n",
    "CUDA = torch.cuda.is_available()\n",
    "if CUDA:\n",
    "    net = net.cuda()\n",
    "\n",
    "criterion = nn.CrossEntropyLoss()\n",
    "optimizer = torch.optim.Adam(net.parameters(), lr=learning_rate)"
   ]
  },
  {
   "cell_type": "code",
   "execution_count": 18,
   "id": "fa9734dc",
   "metadata": {},
   "outputs": [
    {
     "name": "stdout",
     "output_type": "stream",
     "text": [
      "Epoch [1/10], Training Loss: 0.453, Training Accuracy: 87.820%\n",
      "Epoch [2/10], Training Loss: 0.213, Training Accuracy: 94.130%\n",
      "Epoch [3/10], Training Loss: 0.164, Training Accuracy: 95.305%\n",
      "Epoch [4/10], Training Loss: 0.136, Training Accuracy: 96.083%\n",
      "Epoch [5/10], Training Loss: 0.117, Training Accuracy: 96.567%\n",
      "Epoch [6/10], Training Loss: 0.103, Training Accuracy: 96.990%\n",
      "Epoch [7/10], Training Loss: 0.092, Training Accuracy: 97.330%\n",
      "Epoch [8/10], Training Loss: 0.084, Training Accuracy: 97.518%\n",
      "Epoch [9/10], Training Loss: 0.076, Training Accuracy: 97.738%\n",
      "Epoch [10/10], Training Loss: 0.069, Training Accuracy: 97.942%\n",
      "DONE TRAINING!\n"
     ]
    }
   ],
   "source": [
    "for epoch in range(epochs):\n",
    "    correct_train = 0\n",
    "    running_loss = 0\n",
    "    \n",
    "    for i, (images, labels) in enumerate(train_loader):\n",
    "        images = images.view(-1, 28*28)\n",
    "        if CUDA:\n",
    "            images = images.cuda()\n",
    "            labels = labels.cuda()\n",
    "            \n",
    "        outputs = net(images)\n",
    "        _, predicted = torch.max(outputs.data, 1)\n",
    "        correct_train += (predicted == labels).sum()\n",
    "        loss = criterion(outputs, labels)\n",
    "        running_loss += loss.item()\n",
    "        optimizer.zero_grad()\n",
    "        loss.backward()\n",
    "        optimizer.step()\n",
    "        \n",
    "    print('Epoch [{}/{}], Training Loss: {:.3f}, Training Accuracy: {:.3f}%'.format\n",
    "          (epoch+1, epochs, running_loss/len(train_loader), (100*correct_train.double()/len(train_dataset))))\n",
    "print(\"DONE TRAINING!\")\n",
    "\n",
    "torch.save(net.state_dict(), f'02_ffn_mnist_full.pth')"
   ]
  },
  {
   "cell_type": "code",
   "execution_count": 19,
   "id": "c4835203",
   "metadata": {},
   "outputs": [
    {
     "name": "stdout",
     "output_type": "stream",
     "text": [
      "Accuracy of the network on the 10000 test images: 96.43 %\n"
     ]
    }
   ],
   "source": [
    "with torch.no_grad():\n",
    "    correct = 0\n",
    "\n",
    "    for images, labels in test_loader:\n",
    "        if CUDA:\n",
    "            images = images.cuda()\n",
    "            labels = labels.cuda()\n",
    "            \n",
    "        images = images.view(-1, 28*28)\n",
    "        outputs = net(images)\n",
    "        _, predicted = torch.max(outputs.data, 1)\n",
    "        correct += (predicted == labels).sum().item()\n",
    "\n",
    "    print('Accuracy of the network on the 10000 test images: {} %'.format(100 * correct / len(test_dataset)))"
   ]
  },
  {
   "cell_type": "code",
   "execution_count": null,
   "id": "b48a2095",
   "metadata": {},
   "outputs": [],
   "source": []
  },
  {
   "cell_type": "code",
   "execution_count": 36,
   "id": "a6c18668",
   "metadata": {},
   "outputs": [],
   "source": [
    "import pygame\n",
    "from PIL import Image\n",
    "import numpy as np\n",
    "import time\n",
    "\n",
    "def ensure_hw(img_t):\n",
    "    if isinstance(img_t, torch.Tensor):\n",
    "        t = img_t.detach().cpu().float()\n",
    "        if t.ndim == 3 and t.shape[0] == 1:\n",
    "            t = t[0]\n",
    "        assert t.shape == (28, 28), f\"Expected [28,28], got {tuple(t.shape)}\"\n",
    "        t = t.clamp(0, 1)\n",
    "        return t\n",
    "    else:\n",
    "        raise TypeError(\"img1 must be a torch.Tensor\")\n",
    "\n",
    "def tensor_to_surface(t28, scale):\n",
    "    arr = (t28.numpy() * 255).astype(np.uint8)\n",
    "    surf = pygame.Surface((28*scale, 28*scale))\n",
    "    for y in range(28):\n",
    "        for x in range(28):\n",
    "            v = arr[y, x]\n",
    "            color = (v, v, v)\n",
    "            pygame.draw.rect(surf, color, (x*scale, y*scale, scale, scale))\n",
    "    return surf\n",
    "\n",
    "def draw_grid(screen, scale, color=(40,40,40)):\n",
    "    for x in range(29):\n",
    "        pygame.draw.line(screen, color, (x*scale, 0), (x*scale, 28*scale))\n",
    "    for y in range(29):\n",
    "        pygame.draw.line(screen, color, (0, y*scale), (28*scale, y*scale))\n",
    "\n",
    "def main(img1, scale=16, show_grid=True):\n",
    "    t = ensure_hw(img1)\n",
    "    t_orig = t.clone()\n",
    "\n",
    "    pygame.init()\n",
    "    pygame.display.set_caption(\"MNIST Pixel Editor (Left=Black, Right=White, Mid=Toggle)\")\n",
    "    screen = pygame.display.set_mode((28*scale, 28*scale))\n",
    "    clock = pygame.time.Clock()\n",
    "\n",
    "    def redraw():\n",
    "        surf = tensor_to_surface(t, scale)\n",
    "        screen.blit(surf, (0,0))\n",
    "        if show_grid:\n",
    "            draw_grid(screen, scale)\n",
    "        pygame.display.flip()\n",
    "\n",
    "    def set_pixel_from_mouse(pos, button):\n",
    "        mx, my = pos\n",
    "        x = mx // scale\n",
    "        y = my // scale\n",
    "        if x < 0 or x >= 28 or y < 0 or y >= 28:\n",
    "            return\n",
    "        if button == 1:\n",
    "            t[y, x] = 0.0\n",
    "        elif button == 3:\n",
    "            t[y, x] = 1.0\n",
    "        elif button == 2:\n",
    "            t[y, x] = 0.0 if t[y, x] >= 0.5 else 1.0\n",
    "\n",
    "    running = True\n",
    "    first = True\n",
    "    t.copy_(t_orig)\n",
    "    redraw()\n",
    "    while running:\n",
    "        for event in pygame.event.get():\n",
    "            if event.type == pygame.QUIT:\n",
    "                running = False\n",
    "\n",
    "            elif event.type == pygame.MOUSEBUTTONDOWN:\n",
    "                set_pixel_from_mouse(event.pos, event.button)\n",
    "                redraw()\n",
    "\n",
    "            elif event.type == pygame.MOUSEMOTION:\n",
    "                if event.buttons[0] or event.buttons[1] or event.buttons[2]:\n",
    "                    btn = 1 if event.buttons[0] else (3 if event.buttons[2] else 2)\n",
    "                    set_pixel_from_mouse(event.pos, btn)\n",
    "                    redraw()\n",
    "\n",
    "            elif event.type == pygame.KEYDOWN:\n",
    "                if event.key == pygame.K_q:\n",
    "                    running = False\n",
    "                elif event.key == pygame.K_r:\n",
    "                    t.copy_(t_orig)\n",
    "                    redraw()\n",
    "\n",
    "            if first:\n",
    "                time.sleep(1)\n",
    "                first = False\n",
    "                t.copy_(t_orig)\n",
    "                redraw()\n",
    "\n",
    "            \n",
    "\n",
    "        clock.tick(120)\n",
    "\n",
    "    pygame.quit()\n",
    "    return t\n"
   ]
  },
  {
   "cell_type": "code",
   "execution_count": 51,
   "id": "e2b9e05c",
   "metadata": {},
   "outputs": [
    {
     "data": {
      "text/plain": [
       "<matplotlib.image.AxesImage at 0x7fb592737530>"
      ]
     },
     "execution_count": 51,
     "metadata": {},
     "output_type": "execute_result"
    },
    {
     "data": {
      "image/png": "[encoded data removed]",
      "text/plain": [
       "<Figure size 640x480 with 1 Axes>"
      ]
     },
     "metadata": {},
     "output_type": "display_data"
    }
   ],
   "source": [
    "import random as ra\n",
    "import matplotlib.pyplot as plt\n",
    "\n",
    "inputs, labels = next(iter(test_loader))\n",
    "dig_to_check = 1\n",
    "\n",
    "while True:\n",
    "    ind = ra.randrange(0, len(inputs))\n",
    "    if labels[ind] == dig_to_check:\n",
    "        img1 = inputs[ind].squeeze()\n",
    "        break\n",
    "\n",
    "plt.imshow(img1, cmap=\"gray\")"
   ]
  },
  {
   "cell_type": "code",
   "execution_count": 64,
   "id": "3982d8b5",
   "metadata": {},
   "outputs": [
    {
     "name": "stdout",
     "output_type": "stream",
     "text": [
      "Prediction Model: 1\n",
      "tensor([[-3.9369,  6.5962,  2.2614,  4.1118, -2.3786, -2.7923, -3.2177, -2.5662,\n",
      "          2.9684,  0.3008]], device='cuda:0', grad_fn=<AddmmBackward0>)\n"
     ]
    },
    {
     "data": {
      "image/png": "[encoded data removed]",
      "text/plain": [
       "<Figure size 640x480 with 1 Axes>"
      ]
     },
     "metadata": {},
     "output_type": "display_data"
    }
   ],
   "source": [
    "edited = main(img1)\n",
    "plt.imshow(edited, cmap=\"gray\")\n",
    "\n",
    "pr = net(edited.cuda().view(-1, 28*28))\n",
    "print(f\"Prediction Model: {torch.argmax(pr)}\\n{pr}\")"
   ]
  }
 ],
 "metadata": {
  "kernelspec": {
   "display_name": "venv0",
   "language": "python",
   "name": "python3"
  },
  "language_info": {
   "codemirror_mode": {
    "name": "ipython",
    "version": 3
   },
   "file_extension": ".py",
   "mimetype": "text/x-python",
   "name": "python",
   "nbconvert_exporter": "python",
   "pygments_lexer": "ipython3",
   "version": "3.12.2"
  }
 },
 "nbformat": 4,
 "nbformat_minor": 5
}
