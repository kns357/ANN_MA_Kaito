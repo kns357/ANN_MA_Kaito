{
 "cells": [
  {
   "cell_type": "markdown",
   "id": "751d6cf3",
   "metadata": {},
   "source": [
    "<span style=\"font-size:25px\">\n",
    "The following methods are existing baseline methods in explainable AI applied to my full_mnist FFN.\n",
    "</span>"
   ]
  },
  {
   "cell_type": "code",
   "execution_count": 2,
   "id": "dc2b7f53",
   "metadata": {},
   "outputs": [],
   "source": [
    "import torch\n",
    "import torch.nn as nn\n",
    "import torchvision.datasets as datasets \n",
    "import torchvision.transforms as transforms\n",
    "\n",
    "import matplotlib.pyplot as plt\n",
    "import numpy as np\n",
    "import random as ra\n",
    "\n",
    "from scipy.ndimage import gaussian_filter\n",
    "from captum.attr import LRP\n",
    "import plotly.graph_objects as go\n",
    "import plotly.express as px\n",
    "import umap.umap_ as umap\n"
   ]
  },
  {
   "cell_type": "code",
   "execution_count": 3,
   "id": "12cb3d9e",
   "metadata": {},
   "outputs": [],
   "source": [
    "input_size = 784\n",
    "hidden_size0 = 32\n",
    "hidden_size1 = 16\n",
    "out_size = 10\n",
    "epochs = 10\n",
    "batch_size = 64\n",
    "learning_rate = 0.001"
   ]
  },
  {
   "cell_type": "code",
   "execution_count": 4,
   "id": "08e64f49",
   "metadata": {},
   "outputs": [],
   "source": [
    "test_dataset = datasets.MNIST(root='./data',\n",
    "                           train=False,\n",
    "                           transform=transforms.ToTensor())\n",
    "\n",
    "test_loader = torch.utils.data.DataLoader(dataset=test_dataset,\n",
    "                                          batch_size=batch_size,\n",
    "                                          shuffle=False)"
   ]
  },
  {
   "cell_type": "code",
   "execution_count": 5,
   "id": "1180c84e",
   "metadata": {},
   "outputs": [],
   "source": [
    "class Net(nn.Module):\n",
    "    def __init__(self, input_size, hidden_size0, hidden_size1, out_size):\n",
    "        super(Net, self).__init__()\n",
    "        self.fc0 = nn.Linear(input_size, hidden_size0)     #784 - 32\n",
    "        self.fc1 = nn.Linear(hidden_size0, hidden_size1)   #32 - 16\n",
    "        self.fc2 = nn.Linear(hidden_size1, out_size)       #16 - 10\n",
    "        self.tanh = nn.Tanh()\n",
    "        self.hidden_acts = []\n",
    "        self.init_weights()\n",
    "\n",
    "    def init_weights(self):\n",
    "        nn.init.xavier_uniform_(self.fc0.weight, gain = nn.init.calculate_gain('tanh')) \n",
    "        nn.init.xavier_uniform_(self.fc1.weight, gain = nn.init.calculate_gain('tanh'))\n",
    "        nn.init.xavier_uniform_(self.fc2.weight, gain = nn.init.calculate_gain('tanh'))\n",
    "\n",
    "    def forward(self, x):\n",
    "        a0 = self.tanh(self.fc0(x))\n",
    "        a1 = self.tanh(self.fc1(a0))\n",
    "        out = self.fc2(a1)\n",
    "        self.hidden_acts = [a0, a1]\n",
    "        return out"
   ]
  },
  {
   "cell_type": "code",
   "execution_count": 6,
   "id": "74150298",
   "metadata": {},
   "outputs": [],
   "source": [
    "net = Net(input_size, hidden_size0, hidden_size1, out_size)\n",
    "CUDA = torch.cuda.is_available()\n",
    "if CUDA:\n",
    "    net = net.cuda()"
   ]
  },
  {
   "cell_type": "code",
   "execution_count": 7,
   "id": "371aed47",
   "metadata": {},
   "outputs": [
    {
     "data": {
      "text/plain": [
       "<All keys matched successfully>"
      ]
     },
     "execution_count": 7,
     "metadata": {},
     "output_type": "execute_result"
    }
   ],
   "source": [
    "net.load_state_dict(torch.load(\"02_ffn_mnist_full.pth\"))"
   ]
  },
  {
   "cell_type": "code",
   "execution_count": 8,
   "id": "438d5592",
   "metadata": {},
   "outputs": [
    {
     "data": {
      "image/png": "[encoded data removed]",
      "text/plain": [
       "<Figure size 900x400 with 3 Axes>"
      ]
     },
     "metadata": {},
     "output_type": "display_data"
    }
   ],
   "source": [
    "device = torch.device('cuda' if torch.cuda.is_available() else 'cpu')\n",
    "inputs, labels = next(iter(test_loader))\n",
    "\n",
    "while True: #search target class:\n",
    "    ind = ra.randrange(0, len(inputs))\n",
    "    if labels[ind] == 8:\n",
    "        img = inputs[ind].squeeze()\n",
    "        break\n",
    "\n",
    "x = img.clone().detach().view(1, -1).to(device).requires_grad_(True)\n",
    "output = net(x)\n",
    "target_class = output.argmax(dim=1).item()\n",
    "net.zero_grad()\n",
    "output[0, target_class].backward()\n",
    "attribution = (x.grad * x).view(28, 28)\n",
    "saliency = attribution.cpu().detach().numpy()\n",
    "\n",
    "plt.figure(figsize=(9, 4))\n",
    "\n",
    "plt.subplot(1, 2, 1)\n",
    "plt.imshow(img, cmap='gray')\n",
    "plt.title(\"Original Image\")\n",
    "plt.axis('off')\n",
    "\n",
    "plt.subplot(1, 2, 2)\n",
    "plt.imshow(saliency, vmax=1, vmin=-1)\n",
    "plt.title(\"Saliency\")\n",
    "plt.colorbar()\n",
    "plt.axis('off')\n",
    "\n",
    "plt.tight_layout()\n",
    "#plt.savefig('../ma_paper_media/saliency_map.png', dpi=300, bbox_inches='tight')\n",
    "\n",
    "plt.show()\n"
   ]
  },
  {
   "cell_type": "code",
   "execution_count": 9,
   "id": "35a5c72d",
   "metadata": {},
   "outputs": [
    {
     "data": {
      "image/png": "[encoded data removed]",
      "text/plain": [
       "<Figure size 1250x700 with 10 Axes>"
      ]
     },
     "metadata": {},
     "output_type": "display_data"
    }
   ],
   "source": [
    "layer_idx = 2 #2 = out layer\n",
    "layer_sizes = [32, 16, 10]\n",
    "neuron_indices = list(range(layer_sizes[layer_idx]))\n",
    "steps = 200\n",
    "lr = 0.1\n",
    "smoothing_sigma = 0.8\n",
    "\n",
    "net.eval()\n",
    "device = 'cuda' if CUDA else 'cpu'\n",
    "images = []\n",
    "\n",
    "for idx in neuron_indices:\n",
    "    input_image = torch.randn(1, 784, requires_grad=True, device=device)\n",
    "    optimizer = torch.optim.Adam([input_image], lr=lr)\n",
    "\n",
    "    for step in range(steps):\n",
    "        optimizer.zero_grad()\n",
    "        logits = net(input_image)\n",
    "        hidden_layers = net.hidden_acts\n",
    "        activation = logits[0, idx] if layer_idx == 2 else hidden_layers[0][0, idx]\n",
    "        loss = -activation\n",
    "        loss.backward()\n",
    "        optimizer.step()\n",
    "        with torch.no_grad():\n",
    "            input_image.clamp_(0, 1)\n",
    "\n",
    "    img_np = input_image.detach().cpu().view(28, 28).numpy()\n",
    "    if smoothing_sigma > 0:\n",
    "        img_np = gaussian_filter(img_np, sigma=smoothing_sigma)\n",
    "    images.append(img_np)\n",
    "\n",
    "#plotting\n",
    "rows = -(-len(images) // 5)\n",
    "plt.figure(figsize=(5 * 2.5, rows * 3.5))\n",
    "for i, img in enumerate(images):\n",
    "    plt.subplot(rows, 5, i + 1)\n",
    "    plt.imshow(img, cmap='gray')\n",
    "    plt.title(f'neuron {neuron_indices[i]}', fontsize=15)\n",
    "    plt.axis('off')\n",
    "\n",
    "plt.suptitle(f'Activation Maximization - Output Layer', fontsize=20)\n",
    "plt.tight_layout(rect=[0, 0, 1, 0.95])\n",
    "\n",
    "plt.savefig('../ma_paper_media/act_max.png', dpi=300, bbox_inches='tight')\n",
    "plt.show()\n",
    "\n",
    "#activation maximization gives all areas (white) that if overlapping with input >> 0 activate highly.\n",
    "#However, most neurons have very scattered white areas -> they also partly activate on other inputs."
   ]
  },
  {
   "cell_type": "code",
   "execution_count": 10,
   "id": "585667a0",
   "metadata": {},
   "outputs": [
    {
     "data": {
      "application/vnd.plotly.v1+json": {
       "config": {
        "plotlyServerURL": "https://plot.ly"
       },
       "data": [
        {
         "color": "rgb(171,171,171)",
         "i": [
          0,
          0,
          4,
          5,
          1,
          1,
          2,
          2,
          3,
          3,
          4,
          7
         ],
         "j": [
          1,
          3,
          5,
          6,
          2,
          5,
          3,
          6,
          0,
          7,
          0,
          4
         ],
         "k": [
          3,
          2,
          6,
          7,
          5,
          4,
          7,
          4,
          4,
          6,
          1,
          5
         ],
         "opacity": 1,
         "type": "mesh3d",
         "x": {
          "bdata": "AAAAAAAAAADNzMzMzMzsP83MzMzMzOw/AAAAAAAAAAAAAAAAAAAAAM3MzMzMzOw/zczMzMzM7D8AAAAAAAAAAA==",
          "dtype": "f8"
         },
         "y": {
          "bdata": "AAAAAAAAAAAAAAAAAAAAAM3MzMzMzOw/zczMzMzM7D8AAAAAAAAAAAAAAAAAAAAAzczMzMzM7D/NzMzMzMzsPw==",
          "dtype": "f8"
         },
         "z": {
          "bdata": "AAAAAAAAAAAAAAAAAAAAAAAAAAAAAAAAAAAAAAAAAAAAAABArQ7dPwAAAECtDt0/AAAAQK0O3T8AAABArQ7dPw==",
          "dtype": "f8"
         }
        },
        {
         "color": "rgb(81,81,81)",
         "i": [
          0,
          0,
          4,
          5,
          1,
          1,
          2,
          2,
          3,
          3,
          4,
          7
         ],
         "j": [
          1,
          3,
          5,
          6,
          2,
          5,
          3,
          6,
          0,
          7,
          0,
          4
         ],
         "k": [
          3,
          2,
          6,
          7,
          5,
          4,
          7,
          4,
          4,
          6,
          1,
          5
         ],
         "opacity": 1,
         "type": "mesh3d",
         "x": {
          "bdata": "AAAAAAAAAADNzMzMzMzsP83MzMzMzOw/AAAAAAAAAAAAAAAAAAAAAM3MzMzMzOw/zczMzMzM7D8AAAAAAAAAAA==",
          "dtype": "f8"
         },
         "y": {
          "bdata": "AAAAAAAA8D8AAAAAAADwP2ZmZmZmZv4/ZmZmZmZm/j8AAAAAAADwPwAAAAAAAPA/ZmZmZmZm/j9mZmZmZmb+Pw==",
          "dtype": "f8"
         },
         "z": {
          "bdata": "AAAAAAAAAAAAAAAAAAAAAAAAAAAAAAAAAAAAAAAAAAAAAABgnILLPwAAAGCcgss/AAAAYJyCyz8AAABgnILLPw==",
          "dtype": "f8"
         }
        },
        {
         "color": "rgb(93,93,93)",
         "i": [
          0,
          0,
          4,
          5,
          1,
          1,
          2,
          2,
          3,
          3,
          4,
          7
         ],
         "j": [
          1,
          3,
          5,
          6,
          2,
          5,
          3,
          6,
          0,
          7,
          0,
          4
         ],
         "k": [
          3,
          2,
          6,
          7,
          5,
          4,
          7,
          4,
          4,
          6,
          1,
          5
         ],
         "opacity": 1,
         "type": "mesh3d",
         "x": {
          "bdata": "AAAAAAAAAADNzMzMzMzsP83MzMzMzOw/AAAAAAAAAAAAAAAAAAAAAM3MzMzMzOw/zczMzMzM7D8AAAAAAAAAAA==",
          "dtype": "f8"
         },
         "y": {
          "bdata": "AAAAAAAAAEAAAAAAAAAAQDMzMzMzMwdAMzMzMzMzB0AAAAAAAAAAQAAAAAAAAABAMzMzMzMzB0AzMzMzMzMHQA==",
          "dtype": "f8"
         },
         "z": {
          "bdata": "AAAAAAAAAAAAAAAAAAAAAAAAAAAAAAAAAAAAAAAAAAAAAABgZanPPwAAAGBlqc8/AAAAYGWpzz8AAABgZanPPw==",
          "dtype": "f8"
         }
        },
        {
         "color": "rgb(190,190,190)",
         "i": [
          0,
          0,
          4,
          5,
          1,
          1,
          2,
          2,
          3,
          3,
          4,
          7
         ],
         "j": [
          1,
          3,
          5,
          6,
          2,
          5,
          3,
          6,
          0,
          7,
          0,
          4
         ],
         "k": [
          3,
          2,
          6,
          7,
          5,
          4,
          7,
          4,
          4,
          6,
          1,
          5
         ],
         "opacity": 1,
         "type": "mesh3d",
         "x": {
          "bdata": "AAAAAAAAAADNzMzMzMzsP83MzMzMzOw/AAAAAAAAAAAAAAAAAAAAAM3MzMzMzOw/zczMzMzM7D8AAAAAAAAAAA==",
          "dtype": "f8"
         },
         "y": {
          "bdata": "AAAAAAAACEAAAAAAAAAIQDMzMzMzMw9AMzMzMzMzD0AAAAAAAAAIQAAAAAAAAAhAMzMzMzMzD0AzMzMzMzMPQA==",
          "dtype": "f8"
         },
         "z": {
          "bdata": "AAAAAAAAAAAAAAAAAAAAAAAAAAAAAAAAAAAAAAAAAAAAAACAjxXgPwAAAICPFeA/AAAAgI8V4D8AAACAjxXgPw==",
          "dtype": "f8"
         }
        },
        {
         "color": "rgb(221,221,221)",
         "i": [
          0,
          0,
          4,
          5,
          1,
          1,
          2,
          2,
          3,
          3,
          4,
          7
         ],
         "j": [
          1,
          3,
          5,
          6,
          2,
          5,
          3,
          6,
          0,
          7,
          0,
          4
         ],
         "k": [
          3,
          2,
          6,
          7,
          5,
          4,
          7,
          4,
          4,
          6,
          1,
          5
         ],
         "opacity": 1,
         "type": "mesh3d",
         "x": {
          "bdata": "AAAAAAAAAADNzMzMzMzsP83MzMzMzOw/AAAAAAAAAAAAAAAAAAAAAM3MzMzMzOw/zczMzMzM7D8AAAAAAAAAAA==",
          "dtype": "f8"
         },
         "y": {
          "bdata": "AAAAAAAAEEAAAAAAAAAQQJqZmZmZmRNAmpmZmZmZE0AAAAAAAAAQQAAAAAAAABBAmpmZmZmZE0CamZmZmZkTQA==",
          "dtype": "f8"
         },
         "z": {
          "bdata": "AAAAAAAAAAAAAAAAAAAAAAAAAAAAAAAAAAAAAAAAAAAAAABAscLiPwAAAECxwuI/AAAAQLHC4j8AAABAscLiPw==",
          "dtype": "f8"
         }
        },
        {
         "color": "rgb(193,193,193)",
         "i": [
          0,
          0,
          4,
          5,
          1,
          1,
          2,
          2,
          3,
          3,
          4,
          7
         ],
         "j": [
          1,
          3,
          5,
          6,
          2,
          5,
          3,
          6,
          0,
          7,
          0,
          4
         ],
         "k": [
          3,
          2,
          6,
          7,
          5,
          4,
          7,
          4,
          4,
          6,
          1,
          5
         ],
         "opacity": 1,
         "type": "mesh3d",
         "x": {
          "bdata": "AAAAAAAAAADNzMzMzMzsP83MzMzMzOw/AAAAAAAAAAAAAAAAAAAAAM3MzMzMzOw/zczMzMzM7D8AAAAAAAAAAA==",
          "dtype": "f8"
         },
         "y": {
          "bdata": "AAAAAAAAFEAAAAAAAAAUQJqZmZmZmRdAmpmZmZmZF0AAAAAAAAAUQAAAAAAAABRAmpmZmZmZF0CamZmZmZkXQA==",
          "dtype": "f8"
         },
         "z": {
          "bdata": "AAAAAAAAAAAAAAAAAAAAAAAAAAAAAAAAAAAAAAAAAAAAAACgIFjgPwAAAKAgWOA/AAAAoCBY4D8AAACgIFjgPw==",
          "dtype": "f8"
         }
        },
        {
         "color": "rgb(217,217,217)",
         "i": [
          0,
          0,
          4,
          5,
          1,
          1,
          2,
          2,
          3,
          3,
          4,
          7
         ],
         "j": [
          1,
          3,
          5,
          6,
          2,
          5,
          3,
          6,
          0,
          7,
          0,
          4
         ],
         "k": [
          3,
          2,
          6,
          7,
          5,
          4,
          7,
          4,
          4,
          6,
          1,
          5
         ],
         "opacity": 1,
         "type": "mesh3d",
         "x": {
          "bdata": "AAAAAAAAAADNzMzMzMzsP83MzMzMzOw/AAAAAAAAAAAAAAAAAAAAAM3MzMzMzOw/zczMzMzM7D8AAAAAAAAAAA==",
          "dtype": "f8"
         },
         "y": {
          "bdata": "AAAAAAAAGEAAAAAAAAAYQJqZmZmZmRtAmpmZmZmZG0AAAAAAAAAYQAAAAAAAABhAmpmZmZmZG0CamZmZmZkbQA==",
          "dtype": "f8"
         },
         "z": {
          "bdata": "AAAAAAAAAAAAAAAAAAAAAAAAAAAAAAAAAAAAAAAAAAAAAAAgVGbiPwAAACBUZuI/AAAAIFRm4j8AAAAgVGbiPw==",
          "dtype": "f8"
         }
        },
        {
         "color": "rgb(149,149,149)",
         "i": [
          0,
          0,
          4,
          5,
          1,
          1,
          2,
          2,
          3,
          3,
          4,
          7
         ],
         "j": [
          1,
          3,
          5,
          6,
          2,
          5,
          3,
          6,
          0,
          7,
          0,
          4
         ],
         "k": [
          3,
          2,
          6,
          7,
          5,
          4,
          7,
          4,
          4,
          6,
          1,
          5
         ],
         "opacity": 1,
         "type": "mesh3d",
         "x": {
          "bdata": "AAAAAAAA8D9mZmZmZmb+P2ZmZmZmZv4/AAAAAAAA8D8AAAAAAADwP2ZmZmZmZv4/ZmZmZmZm/j8AAAAAAADwPw==",
          "dtype": "f8"
         },
         "y": {
          "bdata": "AAAAAAAAAAAAAAAAAAAAAM3MzMzMzOw/zczMzMzM7D8AAAAAAAAAAAAAAAAAAAAAzczMzMzM7D/NzMzMzMzsPw==",
          "dtype": "f8"
         },
         "z": {
          "bdata": "AAAAAAAAAAAAAAAAAAAAAAAAAAAAAAAAAAAAAAAAAAAAAADAHlbZPwAAAMAeVtk/AAAAwB5W2T8AAADAHlbZPw==",
          "dtype": "f8"
         }
        },
        {
         "color": "rgb(173,173,173)",
         "i": [
          0,
          0,
          4,
          5,
          1,
          1,
          2,
          2,
          3,
          3,
          4,
          7
         ],
         "j": [
          1,
          3,
          5,
          6,
          2,
          5,
          3,
          6,
          0,
          7,
          0,
          4
         ],
         "k": [
          3,
          2,
          6,
          7,
          5,
          4,
          7,
          4,
          4,
          6,
          1,
          5
         ],
         "opacity": 1,
         "type": "mesh3d",
         "x": {
          "bdata": "AAAAAAAA8D9mZmZmZmb+P2ZmZmZmZv4/AAAAAAAA8D8AAAAAAADwP2ZmZmZmZv4/ZmZmZmZm/j8AAAAAAADwPw==",
          "dtype": "f8"
         },
         "y": {
          "bdata": "AAAAAAAA8D8AAAAAAADwP2ZmZmZmZv4/ZmZmZmZm/j8AAAAAAADwPwAAAAAAAPA/ZmZmZmZm/j9mZmZmZmb+Pw==",
          "dtype": "f8"
         },
         "z": {
          "bdata": "AAAAAAAAAAAAAAAAAAAAAAAAAAAAAAAAAAAAAAAAAAAAAAAgOmPdPwAAACA6Y90/AAAAIDpj3T8AAAAgOmPdPw==",
          "dtype": "f8"
         }
        },
        {
         "color": "rgb(192,192,192)",
         "i": [
          0,
          0,
          4,
          5,
          1,
          1,
          2,
          2,
          3,
          3,
          4,
          7
         ],
         "j": [
          1,
          3,
          5,
          6,
          2,
          5,
          3,
          6,
          0,
          7,
          0,
          4
         ],
         "k": [
          3,
          2,
          6,
          7,
          5,
          4,
          7,
          4,
          4,
          6,
          1,
          5
         ],
         "opacity": 1,
         "type": "mesh3d",
         "x": {
          "bdata": "AAAAAAAA8D9mZmZmZmb+P2ZmZmZmZv4/AAAAAAAA8D8AAAAAAADwP2ZmZmZmZv4/ZmZmZmZm/j8AAAAAAADwPw==",
          "dtype": "f8"
         },
         "y": {
          "bdata": "AAAAAAAAAEAAAAAAAAAAQDMzMzMzMwdAMzMzMzMzB0AAAAAAAAAAQAAAAAAAAABAMzMzMzMzB0AzMzMzMzMHQA==",
          "dtype": "f8"
         },
         "z": {
          "bdata": "AAAAAAAAAAAAAAAAAAAAAAAAAAAAAAAAAAAAAAAAAAAAAABAEVHgPwAAAEARUeA/AAAAQBFR4D8AAABAEVHgPw==",
          "dtype": "f8"
         }
        },
        {
         "color": "rgb(255,255,255)",
         "i": [
          0,
          0,
          4,
          5,
          1,
          1,
          2,
          2,
          3,
          3,
          4,
          7
         ],
         "j": [
          1,
          3,
          5,
          6,
          2,
          5,
          3,
          6,
          0,
          7,
          0,
          4
         ],
         "k": [
          3,
          2,
          6,
          7,
          5,
          4,
          7,
          4,
          4,
          6,
          1,
          5
         ],
         "opacity": 1,
         "type": "mesh3d",
         "x": {
          "bdata": "AAAAAAAA8D9mZmZmZmb+P2ZmZmZmZv4/AAAAAAAA8D8AAAAAAADwP2ZmZmZmZv4/ZmZmZmZm/j8AAAAAAADwPw==",
          "dtype": "f8"
         },
         "y": {
          "bdata": "AAAAAAAACEAAAAAAAAAIQDMzMzMzMw9AMzMzMzMzD0AAAAAAAAAIQAAAAAAAAAhAMzMzMzMzD0AzMzMzMzMPQA==",
          "dtype": "f8"
         },
         "z": {
          "bdata": "AAAAAAAAAAAAAAAAAAAAAAAAAAAAAAAAAAAAAAAAAAAAAAAAk5DlPwAAAACTkOU/AAAAAJOQ5T8AAAAAk5DlPw==",
          "dtype": "f8"
         }
        },
        {
         "color": "rgb(205,205,205)",
         "i": [
          0,
          0,
          4,
          5,
          1,
          1,
          2,
          2,
          3,
          3,
          4,
          7
         ],
         "j": [
          1,
          3,
          5,
          6,
          2,
          5,
          3,
          6,
          0,
          7,
          0,
          4
         ],
         "k": [
          3,
          2,
          6,
          7,
          5,
          4,
          7,
          4,
          4,
          6,
          1,
          5
         ],
         "opacity": 1,
         "type": "mesh3d",
         "x": {
          "bdata": "AAAAAAAA8D9mZmZmZmb+P2ZmZmZmZv4/AAAAAAAA8D8AAAAAAADwP2ZmZmZmZv4/ZmZmZmZm/j8AAAAAAADwPw==",
          "dtype": "f8"
         },
         "y": {
          "bdata": "AAAAAAAAEEAAAAAAAAAQQJqZmZmZmRNAmpmZmZmZE0AAAAAAAAAQQAAAAAAAABBAmpmZmZmZE0CamZmZmZkTQA==",
          "dtype": "f8"
         },
         "z": {
          "bdata": "AAAAAAAAAAAAAAAAAAAAAAAAAAAAAAAAAAAAAAAAAAAAAAAAxVvhPwAAAADFW+E/AAAAAMVb4T8AAAAAxVvhPw==",
          "dtype": "f8"
         }
        },
        {
         "color": "rgb(46,46,46)",
         "i": [
          0,
          0,
          4,
          5,
          1,
          1,
          2,
          2,
          3,
          3,
          4,
          7
         ],
         "j": [
          1,
          3,
          5,
          6,
          2,
          5,
          3,
          6,
          0,
          7,
          0,
          4
         ],
         "k": [
          3,
          2,
          6,
          7,
          5,
          4,
          7,
          4,
          4,
          6,
          1,
          5
         ],
         "opacity": 1,
         "type": "mesh3d",
         "x": {
          "bdata": "AAAAAAAA8D9mZmZmZmb+P2ZmZmZmZv4/AAAAAAAA8D8AAAAAAADwP2ZmZmZmZv4/ZmZmZmZm/j8AAAAAAADwPw==",
          "dtype": "f8"
         },
         "y": {
          "bdata": "AAAAAAAAFEAAAAAAAAAUQJqZmZmZmRdAmpmZmZmZF0AAAAAAAAAUQAAAAAAAABRAmpmZmZmZF0CamZmZmZkXQA==",
          "dtype": "f8"
         },
         "z": {
          "bdata": "AAAAAAAAAAAAAAAAAAAAAAAAAAAAAAAAAAAAAAAAAAAAAADg1Wq/PwAAAODVar8/AAAA4NVqvz8AAADg1Wq/Pw==",
          "dtype": "f8"
         }
        },
        {
         "color": "rgb(68,68,68)",
         "i": [
          0,
          0,
          4,
          5,
          1,
          1,
          2,
          2,
          3,
          3,
          4,
          7
         ],
         "j": [
          1,
          3,
          5,
          6,
          2,
          5,
          3,
          6,
          0,
          7,
          0,
          4
         ],
         "k": [
          3,
          2,
          6,
          7,
          5,
          4,
          7,
          4,
          4,
          6,
          1,
          5
         ],
         "opacity": 1,
         "type": "mesh3d",
         "x": {
          "bdata": "AAAAAAAA8D9mZmZmZmb+P2ZmZmZmZv4/AAAAAAAA8D8AAAAAAADwP2ZmZmZmZv4/ZmZmZmZm/j8AAAAAAADwPw==",
          "dtype": "f8"
         },
         "y": {
          "bdata": "AAAAAAAAGEAAAAAAAAAYQJqZmZmZmRtAmpmZmZmZG0AAAAAAAAAYQAAAAAAAABhAmpmZmZmZG0CamZmZmZkbQA==",
          "dtype": "f8"
         },
         "z": {
          "bdata": "AAAAAAAAAAAAAAAAAAAAAAAAAAAAAAAAAAAAAAAAAAAAAABgoCfHPwAAAGCgJ8c/AAAAYKAnxz8AAABgoCfHPw==",
          "dtype": "f8"
         }
        },
        {
         "color": "rgb(142,142,142)",
         "i": [
          0,
          0,
          4,
          5,
          1,
          1,
          2,
          2,
          3,
          3,
          4,
          7
         ],
         "j": [
          1,
          3,
          5,
          6,
          2,
          5,
          3,
          6,
          0,
          7,
          0,
          4
         ],
         "k": [
          3,
          2,
          6,
          7,
          5,
          4,
          7,
          4,
          4,
          6,
          1,
          5
         ],
         "opacity": 1,
         "type": "mesh3d",
         "x": {
          "bdata": "AAAAAAAAAEAzMzMzMzMHQDMzMzMzMwdAAAAAAAAAAEAAAAAAAAAAQDMzMzMzMwdAMzMzMzMzB0AAAAAAAAAAQA==",
          "dtype": "f8"
         },
         "y": {
          "bdata": "AAAAAAAAAAAAAAAAAAAAAM3MzMzMzOw/zczMzMzM7D8AAAAAAAAAAAAAAAAAAAAAzczMzMzM7D/NzMzMzMzsPw==",
          "dtype": "f8"
         },
         "z": {
          "bdata": "AAAAAAAAAAAAAAAAAAAAAAAAAAAAAAAAAAAAAAAAAAAAAACADyrYPwAAAIAPKtg/AAAAgA8q2D8AAACADyrYPw==",
          "dtype": "f8"
         }
        },
        {
         "color": "rgb(152,152,152)",
         "i": [
          0,
          0,
          4,
          5,
          1,
          1,
          2,
          2,
          3,
          3,
          4,
          7
         ],
         "j": [
          1,
          3,
          5,
          6,
          2,
          5,
          3,
          6,
          0,
          7,
          0,
          4
         ],
         "k": [
          3,
          2,
          6,
          7,
          5,
          4,
          7,
          4,
          4,
          6,
          1,
          5
         ],
         "opacity": 1,
         "type": "mesh3d",
         "x": {
          "bdata": "AAAAAAAAAEAzMzMzMzMHQDMzMzMzMwdAAAAAAAAAAEAAAAAAAAAAQDMzMzMzMwdAMzMzMzMzB0AAAAAAAAAAQA==",
          "dtype": "f8"
         },
         "y": {
          "bdata": "AAAAAAAA8D8AAAAAAADwP2ZmZmZmZv4/ZmZmZmZm/j8AAAAAAADwPwAAAAAAAPA/ZmZmZmZm/j9mZmZmZmb+Pw==",
          "dtype": "f8"
         },
         "z": {
          "bdata": "AAAAAAAAAAAAAAAAAAAAAAAAAAAAAAAAAAAAAAAAAAAAAADgDdbZPwAAAOAN1tk/AAAA4A3W2T8AAADgDdbZPw==",
          "dtype": "f8"
         }
        },
        {
         "color": "rgb(196,196,196)",
         "i": [
          0,
          0,
          4,
          5,
          1,
          1,
          2,
          2,
          3,
          3,
          4,
          7
         ],
         "j": [
          1,
          3,
          5,
          6,
          2,
          5,
          3,
          6,
          0,
          7,
          0,
          4
         ],
         "k": [
          3,
          2,
          6,
          7,
          5,
          4,
          7,
          4,
          4,
          6,
          1,
          5
         ],
         "opacity": 1,
         "type": "mesh3d",
         "x": {
          "bdata": "AAAAAAAAAEAzMzMzMzMHQDMzMzMzMwdAAAAAAAAAAEAAAAAAAAAAQDMzMzMzMwdAMzMzMzMzB0AAAAAAAAAAQA==",
          "dtype": "f8"
         },
         "y": {
          "bdata": "AAAAAAAAAEAAAAAAAAAAQDMzMzMzMwdAMzMzMzMzB0AAAAAAAAAAQAAAAAAAAABAMzMzMzMzB0AzMzMzMzMHQA==",
          "dtype": "f8"
         },
         "z": {
          "bdata": "AAAAAAAAAAAAAAAAAAAAAAAAAAAAAAAAAAAAAAAAAAAAAACAFp3gPwAAAIAWneA/AAAAgBad4D8AAACAFp3gPw==",
          "dtype": "f8"
         }
        },
        {
         "color": "rgb(141,141,141)",
         "i": [
          0,
          0,
          4,
          5,
          1,
          1,
          2,
          2,
          3,
          3,
          4,
          7
         ],
         "j": [
          1,
          3,
          5,
          6,
          2,
          5,
          3,
          6,
          0,
          7,
          0,
          4
         ],
         "k": [
          3,
          2,
          6,
          7,
          5,
          4,
          7,
          4,
          4,
          6,
          1,
          5
         ],
         "opacity": 1,
         "type": "mesh3d",
         "x": {
          "bdata": "AAAAAAAAAEAzMzMzMzMHQDMzMzMzMwdAAAAAAAAAAEAAAAAAAAAAQDMzMzMzMwdAMzMzMzMzB0AAAAAAAAAAQA==",
          "dtype": "f8"
         },
         "y": {
          "bdata": "AAAAAAAACEAAAAAAAAAIQDMzMzMzMw9AMzMzMzMzD0AAAAAAAAAIQAAAAAAAAAhAMzMzMzMzD0AzMzMzMzMPQA==",
          "dtype": "f8"
         },
         "z": {
          "bdata": "AAAAAAAAAAAAAAAAAAAAAAAAAAAAAAAAAAAAAAAAAAAAAADACNrXPwAAAMAI2tc/AAAAwAja1z8AAADACNrXPw==",
          "dtype": "f8"
         }
        },
        {
         "color": "rgb(181,181,181)",
         "i": [
          0,
          0,
          4,
          5,
          1,
          1,
          2,
          2,
          3,
          3,
          4,
          7
         ],
         "j": [
          1,
          3,
          5,
          6,
          2,
          5,
          3,
          6,
          0,
          7,
          0,
          4
         ],
         "k": [
          3,
          2,
          6,
          7,
          5,
          4,
          7,
          4,
          4,
          6,
          1,
          5
         ],
         "opacity": 1,
         "type": "mesh3d",
         "x": {
          "bdata": "AAAAAAAAAEAzMzMzMzMHQDMzMzMzMwdAAAAAAAAAAEAAAAAAAAAAQDMzMzMzMwdAMzMzMzMzB0AAAAAAAAAAQA==",
          "dtype": "f8"
         },
         "y": {
          "bdata": "AAAAAAAAEEAAAAAAAAAQQJqZmZmZmRNAmpmZmZmZE0AAAAAAAAAQQAAAAAAAABBAmpmZmZmZE0CamZmZmZkTQA==",
          "dtype": "f8"
         },
         "z": {
          "bdata": "AAAAAAAAAAAAAAAAAAAAAAAAAAAAAAAAAAAAAAAAAAAAAABgdrbePwAAAGB2tt4/AAAAYHa23j8AAABgdrbePw==",
          "dtype": "f8"
         }
        },
        {
         "color": "rgb(168,168,168)",
         "i": [
          0,
          0,
          4,
          5,
          1,
          1,
          2,
          2,
          3,
          3,
          4,
          7
         ],
         "j": [
          1,
          3,
          5,
          6,
          2,
          5,
          3,
          6,
          0,
          7,
          0,
          4
         ],
         "k": [
          3,
          2,
          6,
          7,
          5,
          4,
          7,
          4,
          4,
          6,
          1,
          5
         ],
         "opacity": 1,
         "type": "mesh3d",
         "x": {
          "bdata": "AAAAAAAAAEAzMzMzMzMHQDMzMzMzMwdAAAAAAAAAAEAAAAAAAAAAQDMzMzMzMwdAMzMzMzMzB0AAAAAAAAAAQA==",
          "dtype": "f8"
         },
         "y": {
          "bdata": "AAAAAAAAFEAAAAAAAAAUQJqZmZmZmRdAmpmZmZmZF0AAAAAAAAAUQAAAAAAAABRAmpmZmZmZF0CamZmZmZkXQA==",
          "dtype": "f8"
         },
         "z": {
          "bdata": "AAAAAAAAAAAAAAAAAAAAAAAAAAAAAAAAAAAAAAAAAAAAAAAgh3/cPwAAACCHf9w/AAAAIId/3D8AAAAgh3/cPw==",
          "dtype": "f8"
         }
        },
        {
         "color": "rgb(41,41,41)",
         "i": [
          0,
          0,
          4,
          5,
          1,
          1,
          2,
          2,
          3,
          3,
          4,
          7
         ],
         "j": [
          1,
          3,
          5,
          6,
          2,
          5,
          3,
          6,
          0,
          7,
          0,
          4
         ],
         "k": [
          3,
          2,
          6,
          7,
          5,
          4,
          7,
          4,
          4,
          6,
          1,
          5
         ],
         "opacity": 1,
         "type": "mesh3d",
         "x": {
          "bdata": "AAAAAAAAAEAzMzMzMzMHQDMzMzMzMwdAAAAAAAAAAEAAAAAAAAAAQDMzMzMzMwdAMzMzMzMzB0AAAAAAAAAAQA==",
          "dtype": "f8"
         },
         "y": {
          "bdata": "AAAAAAAAGEAAAAAAAAAYQJqZmZmZmRtAmpmZmZmZG0AAAAAAAAAYQAAAAAAAABhAmpmZmZmZG0CamZmZmZkbQA==",
          "dtype": "f8"
         },
         "z": {
          "bdata": "AAAAAAAAAAAAAAAAAAAAAAAAAAAAAAAAAAAAAAAAAAAAAADA1vq7PwAAAMDW+rs/AAAAwNb6uz8AAADA1vq7Pw==",
          "dtype": "f8"
         }
        },
        {
         "color": "rgb(167,167,167)",
         "i": [
          0,
          0,
          4,
          5,
          1,
          1,
          2,
          2,
          3,
          3,
          4,
          7
         ],
         "j": [
          1,
          3,
          5,
          6,
          2,
          5,
          3,
          6,
          0,
          7,
          0,
          4
         ],
         "k": [
          3,
          2,
          6,
          7,
          5,
          4,
          7,
          4,
          4,
          6,
          1,
          5
         ],
         "opacity": 1,
         "type": "mesh3d",
         "x": {
          "bdata": "AAAAAAAACEAzMzMzMzMPQDMzMzMzMw9AAAAAAAAACEAAAAAAAAAIQDMzMzMzMw9AMzMzMzMzD0AAAAAAAAAIQA==",
          "dtype": "f8"
         },
         "y": {
          "bdata": "AAAAAAAAAAAAAAAAAAAAAM3MzMzMzOw/zczMzMzM7D8AAAAAAAAAAAAAAAAAAAAAzczMzMzM7D/NzMzMzMzsPw==",
          "dtype": "f8"
         },
         "z": {
          "bdata": "AAAAAAAAAAAAAAAAAAAAAAAAAAAAAAAAAAAAAAAAAAAAAABASmPcPwAAAEBKY9w/AAAAQEpj3D8AAABASmPcPw==",
          "dtype": "f8"
         }
        },
        {
         "color": "rgb(135,135,135)",
         "i": [
          0,
          0,
          4,
          5,
          1,
          1,
          2,
          2,
          3,
          3,
          4,
          7
         ],
         "j": [
          1,
          3,
          5,
          6,
          2,
          5,
          3,
          6,
          0,
          7,
          0,
          4
         ],
         "k": [
          3,
          2,
          6,
          7,
          5,
          4,
          7,
          4,
          4,
          6,
          1,
          5
         ],
         "opacity": 1,
         "type": "mesh3d",
         "x": {
          "bdata": "AAAAAAAACEAzMzMzMzMPQDMzMzMzMw9AAAAAAAAACEAAAAAAAAAIQDMzMzMzMw9AMzMzMzMzD0AAAAAAAAAIQA==",
          "dtype": "f8"
         },
         "y": {
          "bdata": "AAAAAAAA8D8AAAAAAADwP2ZmZmZmZv4/ZmZmZmZm/j8AAAAAAADwPwAAAAAAAPA/ZmZmZmZm/j9mZmZmZmb+Pw==",
          "dtype": "f8"
         },
         "z": {
          "bdata": "AAAAAAAAAAAAAAAAAAAAAAAAAAAAAAAAAAAAAAAAAAAAAACAUOjWPwAAAIBQ6NY/AAAAgFDo1j8AAACAUOjWPw==",
          "dtype": "f8"
         }
        },
        {
         "color": "rgb(220,220,220)",
         "i": [
          0,
          0,
          4,
          5,
          1,
          1,
          2,
          2,
          3,
          3,
          4,
          7
         ],
         "j": [
          1,
          3,
          5,
          6,
          2,
          5,
          3,
          6,
          0,
          7,
          0,
          4
         ],
         "k": [
          3,
          2,
          6,
          7,
          5,
          4,
          7,
          4,
          4,
          6,
          1,
          5
         ],
         "opacity": 1,
         "type": "mesh3d",
         "x": {
          "bdata": "AAAAAAAACEAzMzMzMzMPQDMzMzMzMw9AAAAAAAAACEAAAAAAAAAIQDMzMzMzMw9AMzMzMzMzD0AAAAAAAAAIQA==",
          "dtype": "f8"
         },
         "y": {
          "bdata": "AAAAAAAAAEAAAAAAAAAAQDMzMzMzMwdAMzMzMzMzB0AAAAAAAAAAQAAAAAAAAABAMzMzMzMzB0AzMzMzMzMHQA==",
          "dtype": "f8"
         },
         "z": {
          "bdata": "AAAAAAAAAAAAAAAAAAAAAAAAAAAAAAAAAAAAAAAAAAAAAABgWq7iPwAAAGBaruI/AAAAYFqu4j8AAABgWq7iPw==",
          "dtype": "f8"
         }
        },
        {
         "color": "rgb(80,80,80)",
         "i": [
          0,
          0,
          4,
          5,
          1,
          1,
          2,
          2,
          3,
          3,
          4,
          7
         ],
         "j": [
          1,
          3,
          5,
          6,
          2,
          5,
          3,
          6,
          0,
          7,
          0,
          4
         ],
         "k": [
          3,
          2,
          6,
          7,
          5,
          4,
          7,
          4,
          4,
          6,
          1,
          5
         ],
         "opacity": 1,
         "type": "mesh3d",
         "x": {
          "bdata": "AAAAAAAACEAzMzMzMzMPQDMzMzMzMw9AAAAAAAAACEAAAAAAAAAIQDMzMzMzMw9AMzMzMzMzD0AAAAAAAAAIQA==",
          "dtype": "f8"
         },
         "y": {
          "bdata": "AAAAAAAACEAAAAAAAAAIQDMzMzMzMw9AMzMzMzMzD0AAAAAAAAAIQAAAAAAAAAhAMzMzMzMzD0AzMzMzMzMPQA==",
          "dtype": "f8"
         },
         "z": {
          "bdata": "AAAAAAAAAAAAAAAAAAAAAAAAAAAAAAAAAAAAAAAAAAAAAAAADBnLPwAAAAAMGcs/AAAAAAwZyz8AAAAADBnLPw==",
          "dtype": "f8"
         }
        },
        {
         "color": "rgb(164,164,164)",
         "i": [
          0,
          0,
          4,
          5,
          1,
          1,
          2,
          2,
          3,
          3,
          4,
          7
         ],
         "j": [
          1,
          3,
          5,
          6,
          2,
          5,
          3,
          6,
          0,
          7,
          0,
          4
         ],
         "k": [
          3,
          2,
          6,
          7,
          5,
          4,
          7,
          4,
          4,
          6,
          1,
          5
         ],
         "opacity": 1,
         "type": "mesh3d",
         "x": {
          "bdata": "AAAAAAAACEAzMzMzMzMPQDMzMzMzMw9AAAAAAAAACEAAAAAAAAAIQDMzMzMzMw9AMzMzMzMzD0AAAAAAAAAIQA==",
          "dtype": "f8"
         },
         "y": {
          "bdata": "AAAAAAAAEEAAAAAAAAAQQJqZmZmZmRNAmpmZmZmZE0AAAAAAAAAQQAAAAAAAABBAmpmZmZmZE0CamZmZmZkTQA==",
          "dtype": "f8"
         },
         "z": {
          "bdata": "AAAAAAAAAAAAAAAAAAAAAAAAAAAAAAAAAAAAAAAAAAAAAAAAfOPbPwAAAAB849s/AAAAAHzj2z8AAAAAfOPbPw==",
          "dtype": "f8"
         }
        },
        {
         "color": "rgb(213,213,213)",
         "i": [
          0,
          0,
          4,
          5,
          1,
          1,
          2,
          2,
          3,
          3,
          4,
          7
         ],
         "j": [
          1,
          3,
          5,
          6,
          2,
          5,
          3,
          6,
          0,
          7,
          0,
          4
         ],
         "k": [
          3,
          2,
          6,
          7,
          5,
          4,
          7,
          4,
          4,
          6,
          1,
          5
         ],
         "opacity": 1,
         "type": "mesh3d",
         "x": {
          "bdata": "AAAAAAAACEAzMzMzMzMPQDMzMzMzMw9AAAAAAAAACEAAAAAAAAAIQDMzMzMzMw9AMzMzMzMzD0AAAAAAAAAIQA==",
          "dtype": "f8"
         },
         "y": {
          "bdata": "AAAAAAAAFEAAAAAAAAAUQJqZmZmZmRdAmpmZmZmZF0AAAAAAAAAUQAAAAAAAABRAmpmZmZmZF0CamZmZmZkXQA==",
          "dtype": "f8"
         },
         "z": {
          "bdata": "AAAAAAAAAAAAAAAAAAAAAAAAAAAAAAAAAAAAAAAAAAAAAABACwziPwAAAEALDOI/AAAAQAsM4j8AAABACwziPw==",
          "dtype": "f8"
         }
        },
        {
         "color": "rgb(45,45,45)",
         "i": [
          0,
          0,
          4,
          5,
          1,
          1,
          2,
          2,
          3,
          3,
          4,
          7
         ],
         "j": [
          1,
          3,
          5,
          6,
          2,
          5,
          3,
          6,
          0,
          7,
          0,
          4
         ],
         "k": [
          3,
          2,
          6,
          7,
          5,
          4,
          7,
          4,
          4,
          6,
          1,
          5
         ],
         "opacity": 1,
         "type": "mesh3d",
         "x": {
          "bdata": "AAAAAAAACEAzMzMzMzMPQDMzMzMzMw9AAAAAAAAACEAAAAAAAAAIQDMzMzMzMw9AMzMzMzMzD0AAAAAAAAAIQA==",
          "dtype": "f8"
         },
         "y": {
          "bdata": "AAAAAAAAGEAAAAAAAAAYQJqZmZmZmRtAmpmZmZmZG0AAAAAAAAAYQAAAAAAAABhAmpmZmZmZG0CamZmZmZkbQA==",
          "dtype": "f8"
         },
         "z": {
          "bdata": "AAAAAAAAAAAAAAAAAAAAAAAAAAAAAAAAAAAAAAAAAAAAAADAiJG+PwAAAMCIkb4/AAAAwIiRvj8AAADAiJG+Pw==",
          "dtype": "f8"
         }
        },
        {
         "color": "rgb(200,200,200)",
         "i": [
          0,
          0,
          4,
          5,
          1,
          1,
          2,
          2,
          3,
          3,
          4,
          7
         ],
         "j": [
          1,
          3,
          5,
          6,
          2,
          5,
          3,
          6,
          0,
          7,
          0,
          4
         ],
         "k": [
          3,
          2,
          6,
          7,
          5,
          4,
          7,
          4,
          4,
          6,
          1,
          5
         ],
         "opacity": 1,
         "type": "mesh3d",
         "x": {
          "bdata": "AAAAAAAAEECamZmZmZkTQJqZmZmZmRNAAAAAAAAAEEAAAAAAAAAQQJqZmZmZmRNAmpmZmZmZE0AAAAAAAAAQQA==",
          "dtype": "f8"
         },
         "y": {
          "bdata": "AAAAAAAAAAAAAAAAAAAAAM3MzMzMzOw/zczMzMzM7D8AAAAAAAAAAAAAAAAAAAAAzczMzMzM7D/NzMzMzMzsPw==",
          "dtype": "f8"
         },
         "z": {
          "bdata": "AAAAAAAAAAAAAAAAAAAAAAAAAAAAAAAAAAAAAAAAAAAAAACAZP7gPwAAAIBk/uA/AAAAgGT+4D8AAACAZP7gPw==",
          "dtype": "f8"
         }
        },
        {
         "color": "rgb(103,103,103)",
         "i": [
          0,
          0,
          4,
          5,
          1,
          1,
          2,
          2,
          3,
          3,
          4,
          7
         ],
         "j": [
          1,
          3,
          5,
          6,
          2,
          5,
          3,
          6,
          0,
          7,
          0,
          4
         ],
         "k": [
          3,
          2,
          6,
          7,
          5,
          4,
          7,
          4,
          4,
          6,
          1,
          5
         ],
         "opacity": 1,
         "type": "mesh3d",
         "x": {
          "bdata": "AAAAAAAAEECamZmZmZkTQJqZmZmZmRNAAAAAAAAAEEAAAAAAAAAQQJqZmZmZmRNAmpmZmZmZE0AAAAAAAAAQQA==",
          "dtype": "f8"
         },
         "y": {
          "bdata": "AAAAAAAA8D8AAAAAAADwP2ZmZmZmZv4/ZmZmZmZm/j8AAAAAAADwPwAAAAAAAPA/ZmZmZmZm/j9mZmZmZmb+Pw==",
          "dtype": "f8"
         },
         "z": {
          "bdata": "AAAAAAAAAAAAAAAAAAAAAAAAAAAAAAAAAAAAAAAAAAAAAADgwofRPwAAAODCh9E/AAAA4MKH0T8AAADgwofRPw==",
          "dtype": "f8"
         }
        },
        {
         "color": "rgb(152,152,152)",
         "i": [
          0,
          0,
          4,
          5,
          1,
          1,
          2,
          2,
          3,
          3,
          4,
          7
         ],
         "j": [
          1,
          3,
          5,
          6,
          2,
          5,
          3,
          6,
          0,
          7,
          0,
          4
         ],
         "k": [
          3,
          2,
          6,
          7,
          5,
          4,
          7,
          4,
          4,
          6,
          1,
          5
         ],
         "opacity": 1,
         "type": "mesh3d",
         "x": {
          "bdata": "AAAAAAAAEECamZmZmZkTQJqZmZmZmRNAAAAAAAAAEEAAAAAAAAAQQJqZmZmZmRNAmpmZmZmZE0AAAAAAAAAQQA==",
          "dtype": "f8"
         },
         "y": {
          "bdata": "AAAAAAAAAEAAAAAAAAAAQDMzMzMzMwdAMzMzMzMzB0AAAAAAAAAAQAAAAAAAAABAMzMzMzMzB0AzMzMzMzMHQA==",
          "dtype": "f8"
         },
         "z": {
          "bdata": "AAAAAAAAAAAAAAAAAAAAAAAAAAAAAAAAAAAAAAAAAAAAAABAm9TZPwAAAECb1Nk/AAAAQJvU2T8AAABAm9TZPw==",
          "dtype": "f8"
         }
        },
        {
         "color": "rgb(132,132,132)",
         "i": [
          0,
          0,
          4,
          5,
          1,
          1,
          2,
          2,
          3,
          3,
          4,
          7
         ],
         "j": [
          1,
          3,
          5,
          6,
          2,
          5,
          3,
          6,
          0,
          7,
          0,
          4
         ],
         "k": [
          3,
          2,
          6,
          7,
          5,
          4,
          7,
          4,
          4,
          6,
          1,
          5
         ],
         "opacity": 1,
         "type": "mesh3d",
         "x": {
          "bdata": "AAAAAAAAEECamZmZmZkTQJqZmZmZmRNAAAAAAAAAEEAAAAAAAAAQQJqZmZmZmRNAmpmZmZmZE0AAAAAAAAAQQA==",
          "dtype": "f8"
         },
         "y": {
          "bdata": "AAAAAAAACEAAAAAAAAAIQDMzMzMzMw9AMzMzMzMzD0AAAAAAAAAIQAAAAAAAAAhAMzMzMzMzD0AzMzMzMzMPQA==",
          "dtype": "f8"
         },
         "z": {
          "bdata": "AAAAAAAAAAAAAAAAAAAAAAAAAAAAAAAAAAAAAAAAAAAAAAAgOF3WPwAAACA4XdY/AAAAIDhd1j8AAAAgOF3WPw==",
          "dtype": "f8"
         }
        },
        {
         "color": "rgb(246,246,246)",
         "i": [
          0,
          0,
          4,
          5,
          1,
          1,
          2,
          2,
          3,
          3,
          4,
          7
         ],
         "j": [
          1,
          3,
          5,
          6,
          2,
          5,
          3,
          6,
          0,
          7,
          0,
          4
         ],
         "k": [
          3,
          2,
          6,
          7,
          5,
          4,
          7,
          4,
          4,
          6,
          1,
          5
         ],
         "opacity": 1,
         "type": "mesh3d",
         "x": {
          "bdata": "AAAAAAAAEECamZmZmZkTQJqZmZmZmRNAAAAAAAAAEEAAAAAAAAAQQJqZmZmZmRNAmpmZmZmZE0AAAAAAAAAQQA==",
          "dtype": "f8"
         },
         "y": {
          "bdata": "AAAAAAAAEEAAAAAAAAAQQJqZmZmZmRNAmpmZmZmZE0AAAAAAAAAQQAAAAAAAABBAmpmZmZmZE0CamZmZmZkTQA==",
          "dtype": "f8"
         },
         "z": {
          "bdata": "AAAAAAAAAAAAAAAAAAAAAAAAAAAAAAAAAAAAAAAAAAAAAADgst7kPwAAAOCy3uQ/AAAA4LLe5D8AAADgst7kPw==",
          "dtype": "f8"
         }
        },
        {
         "color": "rgb(242,242,242)",
         "i": [
          0,
          0,
          4,
          5,
          1,
          1,
          2,
          2,
          3,
          3,
          4,
          7
         ],
         "j": [
          1,
          3,
          5,
          6,
          2,
          5,
          3,
          6,
          0,
          7,
          0,
          4
         ],
         "k": [
          3,
          2,
          6,
          7,
          5,
          4,
          7,
          4,
          4,
          6,
          1,
          5
         ],
         "opacity": 1,
         "type": "mesh3d",
         "x": {
          "bdata": "AAAAAAAAEECamZmZmZkTQJqZmZmZmRNAAAAAAAAAEEAAAAAAAAAQQJqZmZmZmRNAmpmZmZmZE0AAAAAAAAAQQA==",
          "dtype": "f8"
         },
         "y": {
          "bdata": "AAAAAAAAFEAAAAAAAAAUQJqZmZmZmRdAmpmZmZmZF0AAAAAAAAAUQAAAAAAAABRAmpmZmZmZF0CamZmZmZkXQA==",
          "dtype": "f8"
         },
         "z": {
          "bdata": "AAAAAAAAAAAAAAAAAAAAAAAAAAAAAAAAAAAAAAAAAAAAAADAR4rkPwAAAMBHiuQ/AAAAwEeK5D8AAADAR4rkPw==",
          "dtype": "f8"
         }
        },
        {
         "color": "rgb(59,59,59)",
         "i": [
          0,
          0,
          4,
          5,
          1,
          1,
          2,
          2,
          3,
          3,
          4,
          7
         ],
         "j": [
          1,
          3,
          5,
          6,
          2,
          5,
          3,
          6,
          0,
          7,
          0,
          4
         ],
         "k": [
          3,
          2,
          6,
          7,
          5,
          4,
          7,
          4,
          4,
          6,
          1,
          5
         ],
         "opacity": 1,
         "type": "mesh3d",
         "x": {
          "bdata": "AAAAAAAAEECamZmZmZkTQJqZmZmZmRNAAAAAAAAAEEAAAAAAAAAQQJqZmZmZmRNAmpmZmZmZE0AAAAAAAAAQQA==",
          "dtype": "f8"
         },
         "y": {
          "bdata": "AAAAAAAAGEAAAAAAAAAYQJqZmZmZmRtAmpmZmZmZG0AAAAAAAAAYQAAAAAAAABhAmpmZmZmZG0CamZmZmZkbQA==",
          "dtype": "f8"
         },
         "z": {
          "bdata": "AAAAAAAAAAAAAAAAAAAAAAAAAAAAAAAAAAAAAAAAAAAAAADA5inEPwAAAMDmKcQ/AAAAwOYpxD8AAADA5inEPw==",
          "dtype": "f8"
         }
        },
        {
         "color": "rgb(144,144,144)",
         "i": [
          0,
          0,
          4,
          5,
          1,
          1,
          2,
          2,
          3,
          3,
          4,
          7
         ],
         "j": [
          1,
          3,
          5,
          6,
          2,
          5,
          3,
          6,
          0,
          7,
          0,
          4
         ],
         "k": [
          3,
          2,
          6,
          7,
          5,
          4,
          7,
          4,
          4,
          6,
          1,
          5
         ],
         "opacity": 1,
         "type": "mesh3d",
         "x": {
          "bdata": "AAAAAAAAFECamZmZmZkXQJqZmZmZmRdAAAAAAAAAFEAAAAAAAAAUQJqZmZmZmRdAmpmZmZmZF0AAAAAAAAAUQA==",
          "dtype": "f8"
         },
         "y": {
          "bdata": "AAAAAAAAAAAAAAAAAAAAAM3MzMzMzOw/zczMzMzM7D8AAAAAAAAAAAAAAAAAAAAAzczMzMzM7D/NzMzMzMzsPw==",
          "dtype": "f8"
         },
         "z": {
          "bdata": "AAAAAAAAAAAAAAAAAAAAAAAAAAAAAAAAAAAAAAAAAAAAAADgpGDYPwAAAOCkYNg/AAAA4KRg2D8AAADgpGDYPw==",
          "dtype": "f8"
         }
        },
        {
         "color": "rgb(141,141,141)",
         "i": [
          0,
          0,
          4,
          5,
          1,
          1,
          2,
          2,
          3,
          3,
          4,
          7
         ],
         "j": [
          1,
          3,
          5,
          6,
          2,
          5,
          3,
          6,
          0,
          7,
          0,
          4
         ],
         "k": [
          3,
          2,
          6,
          7,
          5,
          4,
          7,
          4,
          4,
          6,
          1,
          5
         ],
         "opacity": 1,
         "type": "mesh3d",
         "x": {
          "bdata": "AAAAAAAAFECamZmZmZkXQJqZmZmZmRdAAAAAAAAAFEAAAAAAAAAUQJqZmZmZmRdAmpmZmZmZF0AAAAAAAAAUQA==",
          "dtype": "f8"
         },
         "y": {
          "bdata": "AAAAAAAA8D8AAAAAAADwP2ZmZmZmZv4/ZmZmZmZm/j8AAAAAAADwPwAAAAAAAPA/ZmZmZmZm/j9mZmZmZmb+Pw==",
          "dtype": "f8"
         },
         "z": {
          "bdata": "AAAAAAAAAAAAAAAAAAAAAAAAAAAAAAAAAAAAAAAAAAAAAADA3fHXPwAAAMDd8dc/AAAAwN3x1z8AAADA3fHXPw==",
          "dtype": "f8"
         }
        },
        {
         "color": "rgb(134,134,134)",
         "i": [
          0,
          0,
          4,
          5,
          1,
          1,
          2,
          2,
          3,
          3,
          4,
          7
         ],
         "j": [
          1,
          3,
          5,
          6,
          2,
          5,
          3,
          6,
          0,
          7,
          0,
          4
         ],
         "k": [
          3,
          2,
          6,
          7,
          5,
          4,
          7,
          4,
          4,
          6,
          1,
          5
         ],
         "opacity": 1,
         "type": "mesh3d",
         "x": {
          "bdata": "AAAAAAAAFECamZmZmZkXQJqZmZmZmRdAAAAAAAAAFEAAAAAAAAAUQJqZmZmZmRdAmpmZmZmZF0AAAAAAAAAUQA==",
          "dtype": "f8"
         },
         "y": {
          "bdata": "AAAAAAAAAEAAAAAAAAAAQDMzMzMzMwdAMzMzMzMzB0AAAAAAAAAAQAAAAAAAAABAMzMzMzMzB0AzMzMzMzMHQA==",
          "dtype": "f8"
         },
         "z": {
          "bdata": "AAAAAAAAAAAAAAAAAAAAAAAAAAAAAAAAAAAAAAAAAAAAAADAvsXWPwAAAMC+xdY/AAAAwL7F1j8AAADAvsXWPw==",
          "dtype": "f8"
         }
        },
        {
         "color": "rgb(195,195,195)",
         "i": [
          0,
          0,
          4,
          5,
          1,
          1,
          2,
          2,
          3,
          3,
          4,
          7
         ],
         "j": [
          1,
          3,
          5,
          6,
          2,
          5,
          3,
          6,
          0,
          7,
          0,
          4
         ],
         "k": [
          3,
          2,
          6,
          7,
          5,
          4,
          7,
          4,
          4,
          6,
          1,
          5
         ],
         "opacity": 1,
         "type": "mesh3d",
         "x": {
          "bdata": "AAAAAAAAFECamZmZmZkXQJqZmZmZmRdAAAAAAAAAFEAAAAAAAAAUQJqZmZmZmRdAmpmZmZmZF0AAAAAAAAAUQA==",
          "dtype": "f8"
         },
         "y": {
          "bdata": "AAAAAAAACEAAAAAAAAAIQDMzMzMzMw9AMzMzMzMzD0AAAAAAAAAIQAAAAAAAAAhAMzMzMzMzD0AzMzMzMzMPQA==",
          "dtype": "f8"
         },
         "z": {
          "bdata": "AAAAAAAAAAAAAAAAAAAAAAAAAAAAAAAAAAAAAAAAAAAAAABAg4XgPwAAAECDheA/AAAAQIOF4D8AAABAg4XgPw==",
          "dtype": "f8"
         }
        },
        {
         "color": "rgb(178,178,178)",
         "i": [
          0,
          0,
          4,
          5,
          1,
          1,
          2,
          2,
          3,
          3,
          4,
          7
         ],
         "j": [
          1,
          3,
          5,
          6,
          2,
          5,
          3,
          6,
          0,
          7,
          0,
          4
         ],
         "k": [
          3,
          2,
          6,
          7,
          5,
          4,
          7,
          4,
          4,
          6,
          1,
          5
         ],
         "opacity": 1,
         "type": "mesh3d",
         "x": {
          "bdata": "AAAAAAAAFECamZmZmZkXQJqZmZmZmRdAAAAAAAAAFEAAAAAAAAAUQJqZmZmZmRdAmpmZmZmZF0AAAAAAAAAUQA==",
          "dtype": "f8"
         },
         "y": {
          "bdata": "AAAAAAAAEEAAAAAAAAAQQJqZmZmZmRNAmpmZmZmZE0AAAAAAAAAQQAAAAAAAABBAmpmZmZmZE0CamZmZmZkTQA==",
          "dtype": "f8"
         },
         "z": {
          "bdata": "AAAAAAAAAAAAAAAAAAAAAAAAAAAAAAAAAAAAAAAAAAAAAACAmDPePwAAAICYM94/AAAAgJgz3j8AAACAmDPePw==",
          "dtype": "f8"
         }
        },
        {
         "color": "rgb(225,225,225)",
         "i": [
          0,
          0,
          4,
          5,
          1,
          1,
          2,
          2,
          3,
          3,
          4,
          7
         ],
         "j": [
          1,
          3,
          5,
          6,
          2,
          5,
          3,
          6,
          0,
          7,
          0,
          4
         ],
         "k": [
          3,
          2,
          6,
          7,
          5,
          4,
          7,
          4,
          4,
          6,
          1,
          5
         ],
         "opacity": 1,
         "type": "mesh3d",
         "x": {
          "bdata": "AAAAAAAAFECamZmZmZkXQJqZmZmZmRdAAAAAAAAAFEAAAAAAAAAUQJqZmZmZmRdAmpmZmZmZF0AAAAAAAAAUQA==",
          "dtype": "f8"
         },
         "y": {
          "bdata": "AAAAAAAAFEAAAAAAAAAUQJqZmZmZmRdAmpmZmZmZF0AAAAAAAAAUQAAAAAAAABRAmpmZmZmZF0CamZmZmZkXQA==",
          "dtype": "f8"
         },
         "z": {
          "bdata": "AAAAAAAAAAAAAAAAAAAAAAAAAAAAAAAAAAAAAAAAAAAAAABA8BjjPwAAAEDwGOM/AAAAQPAY4z8AAABA8BjjPw==",
          "dtype": "f8"
         }
        },
        {
         "color": "rgb(118,118,118)",
         "i": [
          0,
          0,
          4,
          5,
          1,
          1,
          2,
          2,
          3,
          3,
          4,
          7
         ],
         "j": [
          1,
          3,
          5,
          6,
          2,
          5,
          3,
          6,
          0,
          7,
          0,
          4
         ],
         "k": [
          3,
          2,
          6,
          7,
          5,
          4,
          7,
          4,
          4,
          6,
          1,
          5
         ],
         "opacity": 1,
         "type": "mesh3d",
         "x": {
          "bdata": "AAAAAAAAFECamZmZmZkXQJqZmZmZmRdAAAAAAAAAFEAAAAAAAAAUQJqZmZmZmRdAmpmZmZmZF0AAAAAAAAAUQA==",
          "dtype": "f8"
         },
         "y": {
          "bdata": "AAAAAAAAGEAAAAAAAAAYQJqZmZmZmRtAmpmZmZmZG0AAAAAAAAAYQAAAAAAAABhAmpmZmZmZG0CamZmZmZkbQA==",
          "dtype": "f8"
         },
         "z": {
          "bdata": "AAAAAAAAAAAAAAAAAAAAAAAAAAAAAAAAAAAAAAAAAAAAAADAJfrTPwAAAMAl+tM/AAAAwCX60z8AAADAJfrTPw==",
          "dtype": "f8"
         }
        },
        {
         "color": "rgb(159,159,159)",
         "i": [
          0,
          0,
          4,
          5,
          1,
          1,
          2,
          2,
          3,
          3,
          4,
          7
         ],
         "j": [
          1,
          3,
          5,
          6,
          2,
          5,
          3,
          6,
          0,
          7,
          0,
          4
         ],
         "k": [
          3,
          2,
          6,
          7,
          5,
          4,
          7,
          4,
          4,
          6,
          1,
          5
         ],
         "opacity": 1,
         "type": "mesh3d",
         "x": {
          "bdata": "AAAAAAAAGECamZmZmZkbQJqZmZmZmRtAAAAAAAAAGEAAAAAAAAAYQJqZmZmZmRtAmpmZmZmZG0AAAAAAAAAYQA==",
          "dtype": "f8"
         },
         "y": {
          "bdata": "AAAAAAAAAAAAAAAAAAAAAM3MzMzMzOw/zczMzMzM7D8AAAAAAAAAAAAAAAAAAAAAzczMzMzM7D/NzMzMzMzsPw==",
          "dtype": "f8"
         },
         "z": {
          "bdata": "AAAAAAAAAAAAAAAAAAAAAAAAAAAAAAAAAAAAAAAAAAAAAABg4+3aPwAAAGDj7do/AAAAYOPt2j8AAABg4+3aPw==",
          "dtype": "f8"
         }
        },
        {
         "color": "rgb(130,130,130)",
         "i": [
          0,
          0,
          4,
          5,
          1,
          1,
          2,
          2,
          3,
          3,
          4,
          7
         ],
         "j": [
          1,
          3,
          5,
          6,
          2,
          5,
          3,
          6,
          0,
          7,
          0,
          4
         ],
         "k": [
          3,
          2,
          6,
          7,
          5,
          4,
          7,
          4,
          4,
          6,
          1,
          5
         ],
         "opacity": 1,
         "type": "mesh3d",
         "x": {
          "bdata": "AAAAAAAAGECamZmZmZkbQJqZmZmZmRtAAAAAAAAAGEAAAAAAAAAYQJqZmZmZmRtAmpmZmZmZG0AAAAAAAAAYQA==",
          "dtype": "f8"
         },
         "y": {
          "bdata": "AAAAAAAA8D8AAAAAAADwP2ZmZmZmZv4/ZmZmZmZm/j8AAAAAAADwPwAAAAAAAPA/ZmZmZmZm/j9mZmZmZmb+Pw==",
          "dtype": "f8"
         },
         "z": {
          "bdata": "AAAAAAAAAAAAAAAAAAAAAAAAAAAAAAAAAAAAAAAAAAAAAADApgXWPwAAAMCmBdY/AAAAwKYF1j8AAADApgXWPw==",
          "dtype": "f8"
         }
        },
        {
         "color": "rgb(195,195,195)",
         "i": [
          0,
          0,
          4,
          5,
          1,
          1,
          2,
          2,
          3,
          3,
          4,
          7
         ],
         "j": [
          1,
          3,
          5,
          6,
          2,
          5,
          3,
          6,
          0,
          7,
          0,
          4
         ],
         "k": [
          3,
          2,
          6,
          7,
          5,
          4,
          7,
          4,
          4,
          6,
          1,
          5
         ],
         "opacity": 1,
         "type": "mesh3d",
         "x": {
          "bdata": "AAAAAAAAGECamZmZmZkbQJqZmZmZmRtAAAAAAAAAGEAAAAAAAAAYQJqZmZmZmRtAmpmZmZmZG0AAAAAAAAAYQA==",
          "dtype": "f8"
         },
         "y": {
          "bdata": "AAAAAAAAAEAAAAAAAAAAQDMzMzMzMwdAMzMzMzMzB0AAAAAAAAAAQAAAAAAAAABAMzMzMzMzB0AzMzMzMzMHQA==",
          "dtype": "f8"
         },
         "z": {
          "bdata": "AAAAAAAAAAAAAAAAAAAAAAAAAAAAAAAAAAAAAAAAAAAAAABg+o7gPwAAAGD6juA/AAAAYPqO4D8AAABg+o7gPw==",
          "dtype": "f8"
         }
        },
        {
         "color": "rgb(226,226,226)",
         "i": [
          0,
          0,
          4,
          5,
          1,
          1,
          2,
          2,
          3,
          3,
          4,
          7
         ],
         "j": [
          1,
          3,
          5,
          6,
          2,
          5,
          3,
          6,
          0,
          7,
          0,
          4
         ],
         "k": [
          3,
          2,
          6,
          7,
          5,
          4,
          7,
          4,
          4,
          6,
          1,
          5
         ],
         "opacity": 1,
         "type": "mesh3d",
         "x": {
          "bdata": "AAAAAAAAGECamZmZmZkbQJqZmZmZmRtAAAAAAAAAGEAAAAAAAAAYQJqZmZmZmRtAmpmZmZmZG0AAAAAAAAAYQA==",
          "dtype": "f8"
         },
         "y": {
          "bdata": "AAAAAAAACEAAAAAAAAAIQDMzMzMzMw9AMzMzMzMzD0AAAAAAAAAIQAAAAAAAAAhAMzMzMzMzD0AzMzMzMzMPQA==",
          "dtype": "f8"
         },
         "z": {
          "bdata": "AAAAAAAAAAAAAAAAAAAAAAAAAAAAAAAAAAAAAAAAAAAAAABAly/jPwAAAECXL+M/AAAAQJcv4z8AAABAly/jPw==",
          "dtype": "f8"
         }
        },
        {
         "color": "rgb(168,168,168)",
         "i": [
          0,
          0,
          4,
          5,
          1,
          1,
          2,
          2,
          3,
          3,
          4,
          7
         ],
         "j": [
          1,
          3,
          5,
          6,
          2,
          5,
          3,
          6,
          0,
          7,
          0,
          4
         ],
         "k": [
          3,
          2,
          6,
          7,
          5,
          4,
          7,
          4,
          4,
          6,
          1,
          5
         ],
         "opacity": 1,
         "type": "mesh3d",
         "x": {
          "bdata": "AAAAAAAAGECamZmZmZkbQJqZmZmZmRtAAAAAAAAAGEAAAAAAAAAYQJqZmZmZmRtAmpmZmZmZG0AAAAAAAAAYQA==",
          "dtype": "f8"
         },
         "y": {
          "bdata": "AAAAAAAAEEAAAAAAAAAQQJqZmZmZmRNAmpmZmZmZE0AAAAAAAAAQQAAAAAAAABBAmpmZmZmZE0CamZmZmZkTQA==",
          "dtype": "f8"
         },
         "z": {
          "bdata": "AAAAAAAAAAAAAAAAAAAAAAAAAAAAAAAAAAAAAAAAAAAAAAAA5mvcPwAAAADma9w/AAAAAOZr3D8AAAAA5mvcPw==",
          "dtype": "f8"
         }
        },
        {
         "color": "rgb(140,140,140)",
         "i": [
          0,
          0,
          4,
          5,
          1,
          1,
          2,
          2,
          3,
          3,
          4,
          7
         ],
         "j": [
          1,
          3,
          5,
          6,
          2,
          5,
          3,
          6,
          0,
          7,
          0,
          4
         ],
         "k": [
          3,
          2,
          6,
          7,
          5,
          4,
          7,
          4,
          4,
          6,
          1,
          5
         ],
         "opacity": 1,
         "type": "mesh3d",
         "x": {
          "bdata": "AAAAAAAAGECamZmZmZkbQJqZmZmZmRtAAAAAAAAAGEAAAAAAAAAYQJqZmZmZmRtAmpmZmZmZG0AAAAAAAAAYQA==",
          "dtype": "f8"
         },
         "y": {
          "bdata": "AAAAAAAAFEAAAAAAAAAUQJqZmZmZmRdAmpmZmZmZF0AAAAAAAAAUQAAAAAAAABRAmpmZmZmZF0CamZmZmZkXQA==",
          "dtype": "f8"
         },
         "z": {
          "bdata": "AAAAAAAAAAAAAAAAAAAAAAAAAAAAAAAAAAAAAAAAAAAAAABAt7rXPwAAAEC3utc/AAAAQLe61z8AAABAt7rXPw==",
          "dtype": "f8"
         }
        },
        {
         "color": "rgb(141,141,141)",
         "i": [
          0,
          0,
          4,
          5,
          1,
          1,
          2,
          2,
          3,
          3,
          4,
          7
         ],
         "j": [
          1,
          3,
          5,
          6,
          2,
          5,
          3,
          6,
          0,
          7,
          0,
          4
         ],
         "k": [
          3,
          2,
          6,
          7,
          5,
          4,
          7,
          4,
          4,
          6,
          1,
          5
         ],
         "opacity": 1,
         "type": "mesh3d",
         "x": {
          "bdata": "AAAAAAAAGECamZmZmZkbQJqZmZmZmRtAAAAAAAAAGEAAAAAAAAAYQJqZmZmZmRtAmpmZmZmZG0AAAAAAAAAYQA==",
          "dtype": "f8"
         },
         "y": {
          "bdata": "AAAAAAAAGEAAAAAAAAAYQJqZmZmZmRtAmpmZmZmZG0AAAAAAAAAYQAAAAAAAABhAmpmZmZmZG0CamZmZmZkbQA==",
          "dtype": "f8"
         },
         "z": {
          "bdata": "AAAAAAAAAAAAAAAAAAAAAAAAAAAAAAAAAAAAAAAAAAAAAAAAst7XPwAAAACy3tc/AAAAALLe1z8AAAAAst7XPw==",
          "dtype": "f8"
         }
        }
       ],
       "layout": {
        "height": 700,
        "scene": {
         "aspectmode": "cube",
         "xaxis": {
          "showticklabels": false,
          "title": {
           "text": "x"
          }
         },
         "yaxis": {
          "showticklabels": false,
          "title": {
           "text": "y"
          }
         },
         "zaxis": {
          "title": {
           "text": "Activation"
          }
         }
        },
        "template": {
         "data": {
          "bar": [
           {
            "error_x": {
             "color": "#2a3f5f"
            },
            "error_y": {
             "color": "#2a3f5f"
            },
            "marker": {
             "line": {
              "color": "#E5ECF6",
              "width": 0.5
             },
             "pattern": {
              "fillmode": "overlay",
              "size": 10,
              "solidity": 0.2
             }
            },
            "type": "bar"
           }
          ],
          "barpolar": [
           {
            "marker": {
             "line": {
              "color": "#E5ECF6",
              "width": 0.5
             },
             "pattern": {
              "fillmode": "overlay",
              "size": 10,
              "solidity": 0.2
             }
            },
            "type": "barpolar"
           }
          ],
          "carpet": [
           {
            "aaxis": {
             "endlinecolor": "#2a3f5f",
             "gridcolor": "white",
             "linecolor": "white",
             "minorgridcolor": "white",
             "startlinecolor": "#2a3f5f"
            },
            "baxis": {
             "endlinecolor": "#2a3f5f",
             "gridcolor": "white",
             "linecolor": "white",
             "minorgridcolor": "white",
             "startlinecolor": "#2a3f5f"
            },
            "type": "carpet"
           }
          ],
          "choropleth": [
           {
            "colorbar": {
             "outlinewidth": 0,
             "ticks": ""
            },
            "type": "choropleth"
           }
          ],
          "contour": [
           {
            "colorbar": {
             "outlinewidth": 0,
             "ticks": ""
            },
            "colorscale": [
             [
              0,
              "#0d0887"
             ],
             [
              0.1111111111111111,
              "#46039f"
             ],
             [
              0.2222222222222222,
              "#7201a8"
             ],
             [
              0.3333333333333333,
              "#9c179e"
             ],
             [
              0.4444444444444444,
              "#bd3786"
             ],
             [
              0.5555555555555556,
              "#d8576b"
             ],
             [
              0.6666666666666666,
              "#ed7953"
             ],
             [
              0.7777777777777778,
              "#fb9f3a"
             ],
             [
              0.8888888888888888,
              "#fdca26"
             ],
             [
              1,
              "#f0f921"
             ]
            ],
            "type": "contour"
           }
          ],
          "contourcarpet": [
           {
            "colorbar": {
             "outlinewidth": 0,
             "ticks": ""
            },
            "type": "contourcarpet"
           }
          ],
          "heatmap": [
           {
            "colorbar": {
             "outlinewidth": 0,
             "ticks": ""
            },
            "colorscale": [
             [
              0,
              "#0d0887"
             ],
             [
              0.1111111111111111,
              "#46039f"
             ],
             [
              0.2222222222222222,
              "#7201a8"
             ],
             [
              0.3333333333333333,
              "#9c179e"
             ],
             [
              0.4444444444444444,
              "#bd3786"
             ],
             [
              0.5555555555555556,
              "#d8576b"
             ],
             [
              0.6666666666666666,
              "#ed7953"
             ],
             [
              0.7777777777777778,
              "#fb9f3a"
             ],
             [
              0.8888888888888888,
              "#fdca26"
             ],
             [
              1,
              "#f0f921"
             ]
            ],
            "type": "heatmap"
           }
          ],
          "histogram": [
           {
            "marker": {
             "pattern": {
              "fillmode": "overlay",
              "size": 10,
              "solidity": 0.2
             }
            },
            "type": "histogram"
           }
          ],
          "histogram2d": [
           {
            "colorbar": {
             "outlinewidth": 0,
             "ticks": ""
            },
            "colorscale": [
             [
              0,
              "#0d0887"
             ],
             [
              0.1111111111111111,
              "#46039f"
             ],
             [
              0.2222222222222222,
              "#7201a8"
             ],
             [
              0.3333333333333333,
              "#9c179e"
             ],
             [
              0.4444444444444444,
              "#bd3786"
             ],
             [
              0.5555555555555556,
              "#d8576b"
             ],
             [
              0.6666666666666666,
              "#ed7953"
             ],
             [
              0.7777777777777778,
              "#fb9f3a"
             ],
             [
              0.8888888888888888,
              "#fdca26"
             ],
             [
              1,
              "#f0f921"
             ]
            ],
            "type": "histogram2d"
           }
          ],
          "histogram2dcontour": [
           {
            "colorbar": {
             "outlinewidth": 0,
             "ticks": ""
            },
            "colorscale": [
             [
              0,
              "#0d0887"
             ],
             [
              0.1111111111111111,
              "#46039f"
             ],
             [
              0.2222222222222222,
              "#7201a8"
             ],
             [
              0.3333333333333333,
              "#9c179e"
             ],
             [
              0.4444444444444444,
              "#bd3786"
             ],
             [
              0.5555555555555556,
              "#d8576b"
             ],
             [
              0.6666666666666666,
              "#ed7953"
             ],
             [
              0.7777777777777778,
              "#fb9f3a"
             ],
             [
              0.8888888888888888,
              "#fdca26"
             ],
             [
              1,
              "#f0f921"
             ]
            ],
            "type": "histogram2dcontour"
           }
          ],
          "mesh3d": [
           {
            "colorbar": {
             "outlinewidth": 0,
             "ticks": ""
            },
            "type": "mesh3d"
           }
          ],
          "parcoords": [
           {
            "line": {
             "colorbar": {
              "outlinewidth": 0,
              "ticks": ""
             }
            },
            "type": "parcoords"
           }
          ],
          "pie": [
           {
            "automargin": true,
            "type": "pie"
           }
          ],
          "scatter": [
           {
            "fillpattern": {
             "fillmode": "overlay",
             "size": 10,
             "solidity": 0.2
            },
            "type": "scatter"
           }
          ],
          "scatter3d": [
           {
            "line": {
             "colorbar": {
              "outlinewidth": 0,
              "ticks": ""
             }
            },
            "marker": {
             "colorbar": {
              "outlinewidth": 0,
              "ticks": ""
             }
            },
            "type": "scatter3d"
           }
          ],
          "scattercarpet": [
           {
            "marker": {
             "colorbar": {
              "outlinewidth": 0,
              "ticks": ""
             }
            },
            "type": "scattercarpet"
           }
          ],
          "scattergeo": [
           {
            "marker": {
             "colorbar": {
              "outlinewidth": 0,
              "ticks": ""
             }
            },
            "type": "scattergeo"
           }
          ],
          "scattergl": [
           {
            "marker": {
             "colorbar": {
              "outlinewidth": 0,
              "ticks": ""
             }
            },
            "type": "scattergl"
           }
          ],
          "scattermap": [
           {
            "marker": {
             "colorbar": {
              "outlinewidth": 0,
              "ticks": ""
             }
            },
            "type": "scattermap"
           }
          ],
          "scattermapbox": [
           {
            "marker": {
             "colorbar": {
              "outlinewidth": 0,
              "ticks": ""
             }
            },
            "type": "scattermapbox"
           }
          ],
          "scatterpolar": [
           {
            "marker": {
             "colorbar": {
              "outlinewidth": 0,
              "ticks": ""
             }
            },
            "type": "scatterpolar"
           }
          ],
          "scatterpolargl": [
           {
            "marker": {
             "colorbar": {
              "outlinewidth": 0,
              "ticks": ""
             }
            },
            "type": "scatterpolargl"
           }
          ],
          "scatterternary": [
           {
            "marker": {
             "colorbar": {
              "outlinewidth": 0,
              "ticks": ""
             }
            },
            "type": "scatterternary"
           }
          ],
          "surface": [
           {
            "colorbar": {
             "outlinewidth": 0,
             "ticks": ""
            },
            "colorscale": [
             [
              0,
              "#0d0887"
             ],
             [
              0.1111111111111111,
              "#46039f"
             ],
             [
              0.2222222222222222,
              "#7201a8"
             ],
             [
              0.3333333333333333,
              "#9c179e"
             ],
             [
              0.4444444444444444,
              "#bd3786"
             ],
             [
              0.5555555555555556,
              "#d8576b"
             ],
             [
              0.6666666666666666,
              "#ed7953"
             ],
             [
              0.7777777777777778,
              "#fb9f3a"
             ],
             [
              0.8888888888888888,
              "#fdca26"
             ],
             [
              1,
              "#f0f921"
             ]
            ],
            "type": "surface"
           }
          ],
          "table": [
           {
            "cells": {
             "fill": {
              "color": "#EBF0F8"
             },
             "line": {
              "color": "white"
             }
            },
            "header": {
             "fill": {
              "color": "#C8D4E3"
             },
             "line": {
              "color": "white"
             }
            },
            "type": "table"
           }
          ]
         },
         "layout": {
          "annotationdefaults": {
           "arrowcolor": "#2a3f5f",
           "arrowhead": 0,
           "arrowwidth": 1
          },
          "autotypenumbers": "strict",
          "coloraxis": {
           "colorbar": {
            "outlinewidth": 0,
            "ticks": ""
           }
          },
          "colorscale": {
           "diverging": [
            [
             0,
             "#8e0152"
            ],
            [
             0.1,
             "#c51b7d"
            ],
            [
             0.2,
             "#de77ae"
            ],
            [
             0.3,
             "#f1b6da"
            ],
            [
             0.4,
             "#fde0ef"
            ],
            [
             0.5,
             "#f7f7f7"
            ],
            [
             0.6,
             "#e6f5d0"
            ],
            [
             0.7,
             "#b8e186"
            ],
            [
             0.8,
             "#7fbc41"
            ],
            [
             0.9,
             "#4d9221"
            ],
            [
             1,
             "#276419"
            ]
           ],
           "sequential": [
            [
             0,
             "#0d0887"
            ],
            [
             0.1111111111111111,
             "#46039f"
            ],
            [
             0.2222222222222222,
             "#7201a8"
            ],
            [
             0.3333333333333333,
             "#9c179e"
            ],
            [
             0.4444444444444444,
             "#bd3786"
            ],
            [
             0.5555555555555556,
             "#d8576b"
            ],
            [
             0.6666666666666666,
             "#ed7953"
            ],
            [
             0.7777777777777778,
             "#fb9f3a"
            ],
            [
             0.8888888888888888,
             "#fdca26"
            ],
            [
             1,
             "#f0f921"
            ]
           ],
           "sequentialminus": [
            [
             0,
             "#0d0887"
            ],
            [
             0.1111111111111111,
             "#46039f"
            ],
            [
             0.2222222222222222,
             "#7201a8"
            ],
            [
             0.3333333333333333,
             "#9c179e"
            ],
            [
             0.4444444444444444,
             "#bd3786"
            ],
            [
             0.5555555555555556,
             "#d8576b"
            ],
            [
             0.6666666666666666,
             "#ed7953"
            ],
            [
             0.7777777777777778,
             "#fb9f3a"
            ],
            [
             0.8888888888888888,
             "#fdca26"
            ],
            [
             1,
             "#f0f921"
            ]
           ]
          },
          "colorway": [
           "#636efa",
           "#EF553B",
           "#00cc96",
           "#ab63fa",
           "#FFA15A",
           "#19d3f3",
           "#FF6692",
           "#B6E880",
           "#FF97FF",
           "#FECB52"
          ],
          "font": {
           "color": "#2a3f5f"
          },
          "geo": {
           "bgcolor": "white",
           "lakecolor": "white",
           "landcolor": "#E5ECF6",
           "showlakes": true,
           "showland": true,
           "subunitcolor": "white"
          },
          "hoverlabel": {
           "align": "left"
          },
          "hovermode": "closest",
          "mapbox": {
           "style": "light"
          },
          "paper_bgcolor": "white",
          "plot_bgcolor": "#E5ECF6",
          "polar": {
           "angularaxis": {
            "gridcolor": "white",
            "linecolor": "white",
            "ticks": ""
           },
           "bgcolor": "#E5ECF6",
           "radialaxis": {
            "gridcolor": "white",
            "linecolor": "white",
            "ticks": ""
           }
          },
          "scene": {
           "xaxis": {
            "backgroundcolor": "#E5ECF6",
            "gridcolor": "white",
            "gridwidth": 2,
            "linecolor": "white",
            "showbackground": true,
            "ticks": "",
            "zerolinecolor": "white"
           },
           "yaxis": {
            "backgroundcolor": "#E5ECF6",
            "gridcolor": "white",
            "gridwidth": 2,
            "linecolor": "white",
            "showbackground": true,
            "ticks": "",
            "zerolinecolor": "white"
           },
           "zaxis": {
            "backgroundcolor": "#E5ECF6",
            "gridcolor": "white",
            "gridwidth": 2,
            "linecolor": "white",
            "showbackground": true,
            "ticks": "",
            "zerolinecolor": "white"
           }
          },
          "shapedefaults": {
           "line": {
            "color": "#2a3f5f"
           }
          },
          "ternary": {
           "aaxis": {
            "gridcolor": "white",
            "linecolor": "white",
            "ticks": ""
           },
           "baxis": {
            "gridcolor": "white",
            "linecolor": "white",
            "ticks": ""
           },
           "bgcolor": "#E5ECF6",
           "caxis": {
            "gridcolor": "white",
            "linecolor": "white",
            "ticks": ""
           }
          },
          "title": {
           "x": 0.05
          },
          "xaxis": {
           "automargin": true,
           "gridcolor": "white",
           "linecolor": "white",
           "ticks": "",
           "title": {
            "standoff": 15
           },
           "zerolinecolor": "white",
           "zerolinewidth": 2
          },
          "yaxis": {
           "automargin": true,
           "gridcolor": "white",
           "linecolor": "white",
           "ticks": "",
           "title": {
            "standoff": 15
           },
           "zerolinecolor": "white",
           "zerolinewidth": 2
          }
         }
        },
        "title": {
         "text": "x, y, z maximised activation bars, reduced input for class 0"
        },
        "width": 700
       }
      }
     },
     "metadata": {},
     "output_type": "display_data"
    }
   ],
   "source": [
    "#adding 3d visualisation x, y, z with z = activation threshold for better interpretability\n",
    "\n",
    "block_size = 4\n",
    "new_size = 28 // block_size\n",
    "class_idx = 0\n",
    "activation_map = images[class_idx]\n",
    "\n",
    "averaged_columns = activation_map.reshape(new_size, block_size, new_size, block_size).mean(axis=(1, 3))\n",
    "norm = averaged_columns / averaged_columns.max()\n",
    "colors = np.floor(norm * 255).astype(int)\n",
    "\n",
    "fig = go.Figure()\n",
    "dx = dy = 0.9\n",
    "\n",
    "def add_cube(fig, x0, y0, h, gray):\n",
    "    verts = np.array([\n",
    "        [x0,     y0,     0], #square bottom of column\n",
    "        [x0+dx,  y0,     0],\n",
    "        [x0+dx,  y0+dy,  0],\n",
    "        [x0,     y0+dy,  0],\n",
    "        [x0,     y0,     h], #square top of column\n",
    "        [x0+dx,  y0,     h],\n",
    "        [x0+dx,  y0+dy,  h],\n",
    "        [x0,     y0+dy,  h],\n",
    "    ])\n",
    "\n",
    "    i = [0, 0, 4, 5, 1, 1, 2, 2, 3, 3, 4, 7]\n",
    "    j = [1, 3, 5, 6, 2, 5, 3, 6, 0, 7, 0, 4]\n",
    "    k = [3, 2, 6, 7, 5, 4, 7, 4, 4, 6, 1, 5]\n",
    "    color = f'rgb({gray},{gray},{gray})'\n",
    "\n",
    "    fig.add_trace(go.Mesh3d(\n",
    "        x = verts[:,0], y = verts[:,1], z = verts[:,2], #mesh vertices\n",
    "        i = i, j = j, k = k,\n",
    "        color = color, opacity = 1 #mesh color\n",
    "    ))\n",
    "\n",
    "for xi in range(new_size):\n",
    "    for yi in range(new_size):\n",
    "        h = averaged_columns[yi, new_size-1-xi]\n",
    "        gray = colors[yi, new_size-1-xi]\n",
    "        add_cube(fig, xi, yi, h, gray) #coordinates, height, color\n",
    "\n",
    "fig.update_layout(\n",
    "    scene = dict(\n",
    "        xaxis = dict(title='x', showticklabels=False),\n",
    "        yaxis = dict(title='y', showticklabels=False),\n",
    "        zaxis = dict(title='Activation'),\n",
    "        aspectmode = 'cube'\n",
    "    ),\n",
    "    title = f'x, y, z maximised activation bars, reduced input for class {class_idx}',\n",
    "    width = 700, height=700\n",
    ")\n",
    "\n",
    "fig.show()\n"
   ]
  },
  {
   "cell_type": "code",
   "execution_count": 11,
   "id": "5e62ff17",
   "metadata": {},
   "outputs": [
    {
     "data": {
      "image/png": "[encoded data removed]",
      "text/plain": [
       "<Figure size 2000x700 with 10 Axes>"
      ]
     },
     "metadata": {},
     "output_type": "display_data"
    }
   ],
   "source": [
    "inputs, labels = next(iter(test_loader))\n",
    "ind = ra.randrange(0, len(inputs))\n",
    "example_count = 10\n",
    "target_class = torch.tensor(5).cuda()\n",
    "\n",
    "plt.figure(figsize=(20, -(-example_count // 5) * 3.5))\n",
    "\n",
    "for ind in range(example_count):\n",
    "    ind_rand = ind + ra.randint(0, len(inputs) - 1 - example_count)\n",
    "    input = inputs[ind_rand].unsqueeze(0)\n",
    "    input.requires_grad_()\n",
    "    input = input.cuda()\n",
    "\n",
    "    lrp = LRP(net)\n",
    "    attributions = lrp.attribute(input.view(1, 784), target=target_class)\n",
    "    rel_map = attributions[0].cpu().detach().numpy().reshape(28, 28)\n",
    "\n",
    "    input = input.cpu().detach().numpy().reshape(28, 28)\n",
    "    back_ground = (input == 0)\n",
    "    rel_map[back_ground] = rel_map.min()\n",
    "    rel_map /= rel_map.max()\n",
    "\n",
    "    plt.subplot(-(-example_count // 5), 5, ind + 1)\n",
    "    plt.imshow(rel_map, cmap=\"gray\")\n",
    "    #plt.axis('off')\n",
    "\n",
    "plt.suptitle(f'Layerwise Relevance Propagation - Random input examples, Neuron index: {target_class}', fontsize=20)\n",
    "plt.tight_layout(rect=[0, 0, 1, 0.95])\n",
    "plt.show()"
   ]
  },
  {
   "cell_type": "markdown",
   "id": "3e48937d",
   "metadata": {},
   "source": [
    "<span style=\"font-size:25px\">\n",
    "Further baseline (existing) methods such as SHAP, LIME, counterfactuals, or surrogate models will not be executed here, but their theoretic limitations discussed later.\n",
    "The above methods serve as examples for interpretable but limited methods.\n",
    "Further experiments of my own will be aimed at highlighting the limitations in explaining modern AI.\n",
    "</span>"
   ]
  },
  {
   "cell_type": "code",
   "execution_count": 12,
   "id": "4c122f28",
   "metadata": {},
   "outputs": [
    {
     "name": "stderr",
     "output_type": "stream",
     "text": [
      "/home/kns357/Desktop/ann_ma_kaito/venv0/lib/python3.12/site-packages/umap/umap_.py:1952: UserWarning:\n",
      "\n",
      "n_jobs value 1 overridden to 1 by setting random_state. Use no seed for parallelism.\n",
      "\n"
     ]
    }
   ],
   "source": [
    "#MNIST dataset\n",
    "transform = transforms.Compose([transforms.ToTensor()])\n",
    "train_dataset = datasets.MNIST(root='./data', train=True, download=True, transform=transform)\n",
    "X = train_dataset.data.float() / 255.0 #[60000, 28, 28]\n",
    "X = X.view(-1, 784)  #[60000, 784]\n",
    "y = train_dataset.targets\n",
    "\n",
    "n_samples = 10000\n",
    "indices = torch.randperm(X.shape[0])[:n_samples]\n",
    "X_sub = X[indices].numpy()\n",
    "y_sub = y[indices].numpy()\n",
    "\n",
    "umap_model = umap.UMAP(n_components=2, random_state=42, n_neighbors=30, min_dist=0.1)\n",
    "projections = umap_model.fit_transform(X_sub)\n",
    "\n",
    "fig = px.scatter(\n",
    "    x=projections[:, 0],\n",
    "    y=projections[:, 1],\n",
    "    color=y_sub.astype(str),\n",
    "    title='UMAP of MNIST Digits',\n",
    "    labels={'x': 'UMAP Component 1', 'y': 'UMAP Component 2'},\n",
    "    render_mode='webgl'\n",
    ")\n",
    "fig.update_traces(marker=dict(size=4, opacity=0.6))\n",
    "fig.update_layout(\n",
    "    width=900,\n",
    "    height=700,\n",
    "    title={'x': 0.5, 'xanchor': 'center'},\n",
    "    legend=dict(title='Digit', orientation='h', yanchor='bottom', y=1.02, xanchor='center', x=0.5)\n",
    ")\n",
    "fig.show(renderer=\"browser\")"
   ]
  }
 ],
 "metadata": {
  "kernelspec": {
   "display_name": "venv0",
   "language": "python",
   "name": "python3"
  },
  "language_info": {
   "codemirror_mode": {
    "name": "ipython",
    "version": 3
   },
   "file_extension": ".py",
   "mimetype": "text/x-python",
   "name": "python",
   "nbconvert_exporter": "python",
   "pygments_lexer": "ipython3",
   "version": "3.12.2"
  }
 },
 "nbformat": 4,
 "nbformat_minor": 5
}
