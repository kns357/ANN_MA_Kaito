{
 "cells": [
  {
   "cell_type": "code",
   "execution_count": 1,
   "id": "9bbe10fc",
   "metadata": {},
   "outputs": [
    {
     "name": "stdout",
     "output_type": "stream",
     "text": [
      "pygame 2.6.1 (SDL 2.28.4, Python 3.12.2)\n",
      "Hello from the pygame community. https://www.pygame.org/contribute.html\n"
     ]
    },
    {
     "name": "stderr",
     "output_type": "stream",
     "text": [
      "/home/kns357/Desktop/ann_ma_kaito/venv0/lib/python3.12/site-packages/pygame/pkgdata.py:25: UserWarning: pkg_resources is deprecated as an API. See https://setuptools.pypa.io/en/latest/pkg_resources.html. The pkg_resources package is slated for removal as early as 2025-11-30. Refrain from using this package or pin to Setuptools<81.\n",
      "  from pkg_resources import resource_stream, resource_exists\n"
     ]
    },
    {
     "name": "stdout",
     "output_type": "stream",
     "text": [
      "Tensor shape: torch.Size([1, 28, 28])\n",
      "Max value: tensor(1.) Min value: tensor(0.)\n"
     ]
    },
    {
     "ename": "NameError",
     "evalue": "name 'input_to_activation' is not defined",
     "output_type": "error",
     "traceback": [
      "\u001b[31m---------------------------------------------------------------------------\u001b[39m",
      "\u001b[31mNameError\u001b[39m                                 Traceback (most recent call last)",
      "\u001b[36mCell\u001b[39m\u001b[36m \u001b[39m\u001b[32mIn[1]\u001b[39m\u001b[32m, line 48\u001b[39m\n\u001b[32m     45\u001b[39m \u001b[38;5;28mprint\u001b[39m(\u001b[33m\"\u001b[39m\u001b[33mTensor shape:\u001b[39m\u001b[33m\"\u001b[39m, tensor.shape)\n\u001b[32m     46\u001b[39m \u001b[38;5;28mprint\u001b[39m(\u001b[33m\"\u001b[39m\u001b[33mMax value:\u001b[39m\u001b[33m\"\u001b[39m, tensor.max(), \u001b[33m\"\u001b[39m\u001b[33mMin value:\u001b[39m\u001b[33m\"\u001b[39m, tensor.min())\n\u001b[32m---> \u001b[39m\u001b[32m48\u001b[39m cluster = \u001b[43minput_to_activation\u001b[49m()\n",
      "\u001b[31mNameError\u001b[39m: name 'input_to_activation' is not defined"
     ]
    }
   ],
   "source": [
    "import pygame\n",
    "import torch\n",
    "import numpy as np\n",
    "\n",
    "def draw_mnist_input(scale=20):\n",
    "    pygame.init()\n",
    "    size = 28\n",
    "    window = pygame.display.set_mode((size*scale, size*scale))\n",
    "    pygame.display.set_caption(\"Draw a digit (Press Enter to finish)\")\n",
    "    canvas = np.zeros((size, size), dtype=np.float32)\n",
    "\n",
    "    running = True\n",
    "    while running:\n",
    "        for event in pygame.event.get():\n",
    "            if event.type == pygame.QUIT:\n",
    "                running = False\n",
    "                break\n",
    "            elif event.type == pygame.KEYDOWN:\n",
    "                if event.key == pygame.K_RETURN:\n",
    "                    running = False\n",
    "                    break\n",
    "            elif pygame.mouse.get_pressed()[0]:\n",
    "                x, y = pygame.mouse.get_pos()\n",
    "                grid_x, grid_y = x // scale, y // scale\n",
    "                if 0 <= grid_x < size and 0 <= grid_y < size:\n",
    "                    canvas[grid_y, grid_x] = 1.0\n",
    "\n",
    "                    for dx in [-1, 0, 1]:\n",
    "                        for dy in [-1, 0, 1]:\n",
    "                            nx, ny = grid_x + dx, grid_y + dy\n",
    "                            if 0 <= nx < size and 0 <= ny < size:\n",
    "                                canvas[ny, nx] = max(canvas[ny, nx], 0.5)\n",
    "\n",
    "        for y in range(size):\n",
    "            for x in range(size):\n",
    "                val = int(canvas[y, x] * 255)\n",
    "                pygame.draw.rect(window, (val, val, val), (x*scale, y*scale, scale, scale))\n",
    "\n",
    "        pygame.display.flip()\n",
    "\n",
    "    pygame.quit()\n",
    "    return torch.tensor(canvas).unsqueeze(0)  #[1, 28, 28]\n",
    "\n",
    "tensor = draw_mnist_input()\n",
    "print(\"Tensor shape:\", tensor.shape)\n",
    "print(\"Max value:\", tensor.max(), \"Min value:\", tensor.min())\n",
    "\n",
    "cluster = input_to_activation()\n"
   ]
  }
 ],
 "metadata": {
  "kernelspec": {
   "display_name": "venv0",
   "language": "python",
   "name": "python3"
  },
  "language_info": {
   "codemirror_mode": {
    "name": "ipython",
    "version": 3
   },
   "file_extension": ".py",
   "mimetype": "text/x-python",
   "name": "python",
   "nbconvert_exporter": "python",
   "pygments_lexer": "ipython3",
   "version": "3.12.2"
  }
 },
 "nbformat": 4,
 "nbformat_minor": 5
}
