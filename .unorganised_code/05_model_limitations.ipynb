{
 "cells": [
  {
   "cell_type": "code",
   "execution_count": 1,
   "id": "277d9400",
   "metadata": {},
   "outputs": [],
   "source": [
    "#show overfitting due to not learning concepts but MNIST-style examples"
   ]
  },
  {
   "cell_type": "code",
   "execution_count": null,
   "id": "5f3e1cac",
   "metadata": {},
   "outputs": [],
   "source": [
    "#there exist models that can recognise virtually any type of image style of digits, but they have been trained on a lot more such data.\n",
    "#if my FFN had learnt concepts in human terms then the MNIST-style would not impact accuracy, yet my FFN is not a conceptual learner, \n",
    "#neither are any of the deeper more general models out there."
   ]
  },
  {
   "cell_type": "code",
   "execution_count": 3,
   "id": "bfcb30e4",
   "metadata": {},
   "outputs": [],
   "source": [
    "#will deeper nets actually learn concepts? no/yes, why?"
   ]
  }
 ],
 "metadata": {
  "kernelspec": {
   "display_name": "venv0",
   "language": "python",
   "name": "python3"
  },
  "language_info": {
   "codemirror_mode": {
    "name": "ipython",
    "version": 3
   },
   "file_extension": ".py",
   "mimetype": "text/x-python",
   "name": "python",
   "nbconvert_exporter": "python",
   "pygments_lexer": "ipython3",
   "version": "3.12.2"
  }
 },
 "nbformat": 4,
 "nbformat_minor": 5
}
