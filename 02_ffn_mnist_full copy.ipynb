{
 "cells": [
  {
   "cell_type": "code",
   "execution_count": 1,
   "id": "a041ae83",
   "metadata": {},
   "outputs": [],
   "source": [
    "import torch\n",
    "import torch.nn as nn\n",
    "import torchvision.datasets as datasets \n",
    "import torchvision.transforms as transforms"
   ]
  },
  {
   "cell_type": "code",
   "execution_count": 2,
   "id": "7c018232",
   "metadata": {},
   "outputs": [],
   "source": [
    "input_size = 784\n",
    "hidden_size0 = 32\n",
    "hidden_size1 = 16\n",
    "out_size = 10\n",
    "\n",
    "epochs = 10\n",
    "batch_size = 64\n",
    "learning_rate = 0.001"
   ]
  },
  {
   "cell_type": "code",
   "execution_count": 3,
   "id": "f54bcb09",
   "metadata": {},
   "outputs": [],
   "source": [
    "train_dataset = datasets.MNIST(root='./data',\n",
    "                           train=True,\n",
    "                           transform=transforms.ToTensor(),\n",
    "                           download=True)\n",
    "\n",
    "test_dataset = datasets.MNIST(root='./data',\n",
    "                           train=False,\n",
    "                           transform=transforms.ToTensor())\n",
    "\n",
    "train_loader = torch.utils.data.DataLoader(dataset=train_dataset,\n",
    "                                          batch_size=batch_size,\n",
    "                                          shuffle=True)\n",
    "\n",
    "test_loader = torch.utils.data.DataLoader(dataset=test_dataset,\n",
    "                                          batch_size=batch_size,\n",
    "                                          shuffle=False)"
   ]
  },
  {
   "cell_type": "code",
   "execution_count": 4,
   "id": "9d13a029",
   "metadata": {},
   "outputs": [],
   "source": [
    "class Net(nn.Module):\n",
    "    def __init__(self, input_size, hidden_size0, hidden_size1, out_size):\n",
    "        super(Net, self).__init__()\n",
    "        self.fc0 = nn.Linear(input_size, hidden_size0)     #784 - 32\n",
    "        self.fc1 = nn.Linear(hidden_size0, hidden_size1)   #32 - 16\n",
    "        self.fc2 = nn.Linear(hidden_size1, out_size)       #16 - 10\n",
    "        self.tanh = nn.Tanh()\n",
    "        self.init_weights()\n",
    "\n",
    "    def init_weights(self):\n",
    "        nn.init.xavier_uniform_(self.fc0.weight, gain=nn.init.calculate_gain('tanh')) \n",
    "        nn.init.xavier_uniform_(self.fc1.weight, gain=nn.init.calculate_gain('tanh'))\n",
    "        nn.init.xavier_uniform_(self.fc2.weight, gain=nn.init.calculate_gain('tanh'))\n",
    "\n",
    "    def forward(self, x):\n",
    "        out = self.tanh(self.fc0(x))\n",
    "        out = self.tanh(self.fc1(out))\n",
    "        out = self.fc2(out)\n",
    "        return out"
   ]
  },
  {
   "cell_type": "code",
   "execution_count": 5,
   "id": "2f446bd8",
   "metadata": {},
   "outputs": [],
   "source": [
    "net = Net(input_size, hidden_size0, hidden_size1, out_size)\n",
    "CUDA = torch.cuda.is_available()\n",
    "if CUDA:\n",
    "    net = net.cuda()\n",
    "\n",
    "criterion = nn.CrossEntropyLoss()\n",
    "optimizer = torch.optim.Adam(net.parameters(), lr=learning_rate)"
   ]
  },
  {
   "cell_type": "code",
   "execution_count": 6,
   "id": "fa9734dc",
   "metadata": {},
   "outputs": [
    {
     "name": "stdout",
     "output_type": "stream",
     "text": [
      "Epoch [1/10], Training Loss: 0.451, Training Accuracy: 87.690%\n",
      "Epoch [2/10], Training Loss: 0.218, Training Accuracy: 93.888%\n",
      "Epoch [3/10], Training Loss: 0.164, Training Accuracy: 95.250%\n",
      "Epoch [4/10], Training Loss: 0.137, Training Accuracy: 96.057%\n",
      "Epoch [5/10], Training Loss: 0.118, Training Accuracy: 96.612%\n",
      "Epoch [6/10], Training Loss: 0.104, Training Accuracy: 96.933%\n",
      "Epoch [7/10], Training Loss: 0.095, Training Accuracy: 97.292%\n",
      "Epoch [8/10], Training Loss: 0.086, Training Accuracy: 97.445%\n",
      "Epoch [9/10], Training Loss: 0.079, Training Accuracy: 97.708%\n",
      "Epoch [10/10], Training Loss: 0.073, Training Accuracy: 97.862%\n",
      "DONE TRAINING!\n"
     ]
    }
   ],
   "source": [
    "for epoch in range(epochs):\n",
    "    correct_train = 0\n",
    "    running_loss = 0\n",
    "    \n",
    "    for i, (images, labels) in enumerate(train_loader):\n",
    "        images = images.view(-1, 28*28)\n",
    "        if CUDA:\n",
    "            images = images.cuda()\n",
    "            labels = labels.cuda()\n",
    "            \n",
    "        outputs = net(images)\n",
    "        _, predicted = torch.max(outputs.data, 1)\n",
    "        correct_train += (predicted == labels).sum()\n",
    "        loss = criterion(outputs, labels)\n",
    "        running_loss += loss.item()\n",
    "        optimizer.zero_grad()\n",
    "        loss.backward()\n",
    "        optimizer.step()\n",
    "        \n",
    "    print('Epoch [{}/{}], Training Loss: {:.3f}, Training Accuracy: {:.3f}%'.format\n",
    "          (epoch+1, epochs, running_loss/len(train_loader), (100*correct_train.double()/len(train_dataset))))\n",
    "print(\"DONE TRAINING!\")\n",
    "\n",
    "torch.save(net.state_dict(), f'02_ffn_mnist_full.pth')"
   ]
  },
  {
   "cell_type": "code",
   "execution_count": 7,
   "id": "c4835203",
   "metadata": {},
   "outputs": [
    {
     "name": "stdout",
     "output_type": "stream",
     "text": [
      "Accuracy of the network on the 10000 test images: 96.66 %\n"
     ]
    }
   ],
   "source": [
    "with torch.no_grad():\n",
    "    correct = 0\n",
    "\n",
    "    for images, labels in test_loader:\n",
    "        if CUDA:\n",
    "            images = images.cuda()\n",
    "            labels = labels.cuda()\n",
    "            \n",
    "        images = images.view(-1, 28*28)\n",
    "        outputs = net(images)\n",
    "        _, predicted = torch.max(outputs.data, 1)\n",
    "        correct += (predicted == labels).sum().item()\n",
    "\n",
    "    print('Accuracy of the network on the 10000 test images: {} %'.format(100 * correct / len(test_dataset)))"
   ]
  },
  {
   "cell_type": "code",
   "execution_count": 8,
   "id": "04f20be0",
   "metadata": {},
   "outputs": [
    {
     "name": "stdout",
     "output_type": "stream",
     "text": [
      "pygame 2.6.1 (SDL 2.28.4, Python 3.12.2)\n",
      "Hello from the pygame community. https://www.pygame.org/contribute.html\n"
     ]
    },
    {
     "name": "stderr",
     "output_type": "stream",
     "text": [
      "/home/kns357/Desktop/ann_ma_kaito/venv0/lib/python3.12/site-packages/pygame/pkgdata.py:25: UserWarning: pkg_resources is deprecated as an API. See https://setuptools.pypa.io/en/latest/pkg_resources.html. The pkg_resources package is slated for removal as early as 2025-11-30. Refrain from using this package or pin to Setuptools<81.\n",
      "  from pkg_resources import resource_stream, resource_exists\n"
     ]
    },
    {
     "name": "stdout",
     "output_type": "stream",
     "text": [
      "Tensor shape: torch.Size([1, 28, 28])\n"
     ]
    },
    {
     "data": {
      "image/png": "[encoded data removed]",
      "text/plain": [
       "<Figure size 640x480 with 1 Axes>"
      ]
     },
     "metadata": {},
     "output_type": "display_data"
    }
   ],
   "source": [
    "import pygame\n",
    "import numpy as np\n",
    "import torch\n",
    "import matplotlib.pyplot as plt\n",
    "\n",
    "# ---- Config ----\n",
    "GRID = 28\n",
    "CELL = 20                 # pixel size of each cell on screen\n",
    "WIDTH, HEIGHT = GRID*CELL, GRID*CELL\n",
    "LEVELS = [0.0, 0.25, 0.5, 0.75, 1.0]   # grayscale levels\n",
    "\n",
    "# ---- Init ----\n",
    "pygame.init()\n",
    "screen = pygame.display.set_mode((WIDTH, HEIGHT))\n",
    "pygame.display.set_caption(\"Click Grid (Enter=Save, C=Clear)\")\n",
    "clock = pygame.time.Clock()\n",
    "\n",
    "# State: 2D array in [0,1]\n",
    "grid = np.zeros((GRID, GRID), dtype=np.float32)\n",
    "\n",
    "def draw_grid():\n",
    "    screen.fill((0,0,0))\n",
    "    # Fill cells\n",
    "    for r in range(GRID):\n",
    "        for c in range(GRID):\n",
    "            v = grid[r, c]\n",
    "            g = int(v*255)\n",
    "            rect = pygame.Rect(c*CELL, r*CELL, CELL, CELL)\n",
    "            pygame.draw.rect(screen, (g,g,g), rect)\n",
    "    # Grid lines\n",
    "    for r in range(GRID+1):\n",
    "        pygame.draw.line(screen, (40,40,40), (0, r*CELL), (WIDTH, r*CELL))\n",
    "    for c in range(GRID+1):\n",
    "        pygame.draw.line(screen, (40,40,40), (c*CELL, 0), (c*CELL, HEIGHT))\n",
    "\n",
    "def cycle_value(v, direction=+1):\n",
    "    \"\"\"Cycle v through LEVELS up (+1) or down (-1).\"\"\"\n",
    "    idx = min(range(len(LEVELS)), key=lambda i: abs(LEVELS[i]-v))\n",
    "    idx = (idx + direction) % len(LEVELS)\n",
    "    return LEVELS[idx]\n",
    "\n",
    "running = True\n",
    "saved = True\n",
    "while running:\n",
    "    for event in pygame.event.get():\n",
    "        if event.type == pygame.QUIT:\n",
    "            running = False\n",
    "\n",
    "        if event.type == pygame.KEYDOWN:\n",
    "            if event.key == pygame.K_ESCAPE:\n",
    "                running = False\n",
    "            elif event.key == pygame.K_c:\n",
    "                grid.fill(0.0)\n",
    "            elif event.key == pygame.K_RETURN:\n",
    "                saved = True\n",
    "                running = False\n",
    "\n",
    "        if event.type == pygame.MOUSEBUTTONDOWN:\n",
    "            x, y = pygame.mouse.get_pos()\n",
    "            c, r = x // CELL, y // CELL\n",
    "            if 0 <= r < GRID and 0 <= c < GRID:\n",
    "                if event.button == 1:       # left click: up\n",
    "                    grid[r, c] = cycle_value(grid[r, c], +1)\n",
    "                elif event.button == 3:     # right click: down\n",
    "                    grid[r, c] = cycle_value(grid[r, c], -1)\n",
    "\n",
    "    draw_grid()\n",
    "    pygame.display.flip()\n",
    "    clock.tick(60)\n",
    "\n",
    "pygame.quit()\n",
    "\n",
    "if saved:\n",
    "    # To tensor [1, 28, 28], values in [0,1]\n",
    "    img = torch.tensor(grid, dtype=torch.float32).unsqueeze(0)\n",
    "\n",
    "    print(\"Tensor shape:\", img.shape)\n",
    "    # Preview with matplotlib\n",
    "    plt.imshow(img.squeeze(0).numpy(), cmap=\"gray\", vmin=0, vmax=1)\n",
    "    plt.title(\"Grid Image\")\n",
    "    plt.axis(\"off\")\n",
    "    plt.show()\n",
    "else:\n",
    "    print(\"Closed without saving (no tensor created).\")\n"
   ]
  },
  {
   "cell_type": "code",
   "execution_count": null,
   "id": "de055517",
   "metadata": {},
   "outputs": [],
   "source": []
  },
  {
   "cell_type": "code",
   "execution_count": 9,
   "id": "59e614cc",
   "metadata": {},
   "outputs": [
    {
     "name": "stdout",
     "output_type": "stream",
     "text": [
      "tensor([[ 0.5645, -0.3813, -3.4977,  0.2270, -1.3573,  3.7030, -1.6067,  3.6827,\n",
      "         -1.8909,  0.2640]], device='cuda:0', grad_fn=<AddmmBackward0>)\n"
     ]
    }
   ],
   "source": [
    "pred = net(img.cuda().view(-1, 28*28))\n",
    "print(pred)"
   ]
  },
  {
   "cell_type": "code",
   "execution_count": 10,
   "id": "b8f261bf",
   "metadata": {},
   "outputs": [
    {
     "ename": "NameError",
     "evalue": "name 'tensor' is not defined",
     "output_type": "error",
     "traceback": [
      "\u001b[31m---------------------------------------------------------------------------\u001b[39m",
      "\u001b[31mNameError\u001b[39m                                 Traceback (most recent call last)",
      "\u001b[36mCell\u001b[39m\u001b[36m \u001b[39m\u001b[32mIn[10]\u001b[39m\u001b[32m, line 1\u001b[39m\n\u001b[32m----> \u001b[39m\u001b[32m1\u001b[39m pred = net(\u001b[43mtensor\u001b[49m.cuda().view(-\u001b[32m1\u001b[39m, \u001b[32m28\u001b[39m*\u001b[32m28\u001b[39m))\n\u001b[32m      2\u001b[39m \u001b[38;5;28mprint\u001b[39m(pred)\n",
      "\u001b[31mNameError\u001b[39m: name 'tensor' is not defined"
     ]
    }
   ],
   "source": [
    "pred = net(tensor.cuda().view(-1, 28*28))\n",
    "print(pred)"
   ]
  }
 ],
 "metadata": {
  "kernelspec": {
   "display_name": "venv0",
   "language": "python",
   "name": "python3"
  },
  "language_info": {
   "codemirror_mode": {
    "name": "ipython",
    "version": 3
   },
   "file_extension": ".py",
   "mimetype": "text/x-python",
   "name": "python",
   "nbconvert_exporter": "python",
   "pygments_lexer": "ipython3",
   "version": "3.12.2"
  }
 },
 "nbformat": 4,
 "nbformat_minor": 5
}
